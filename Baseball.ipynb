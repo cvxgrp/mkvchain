{
 "cells": [
  {
   "cell_type": "code",
   "execution_count": 1,
   "metadata": {},
   "outputs": [],
   "source": [
    "%load_ext autoreload\n",
    "%autoreload 2"
   ]
  },
  {
   "cell_type": "code",
   "execution_count": 2,
   "metadata": {},
   "outputs": [],
   "source": [
    "import pandas as pd\n",
    "import numpy as np\n",
    "from model import FeatureDependentMarkovChain\n",
    "import matplotlib.pyplot as plt\n",
    "pd.set_option('display.max_rows', 150)\n",
    "\n",
    "# https://chadwick.readthedocs.io/en/latest/cwevent.html"
   ]
  },
  {
   "cell_type": "code",
   "execution_count": 3,
   "metadata": {},
   "outputs": [],
   "source": [
    "state_to_id = {}\n",
    "id_to_state = {}\n",
    "i = 0\n",
    "for outs in [0, 1, 2]:\n",
    "    for r3 in [0, 1]:\n",
    "        for r2 in [0, 1]:\n",
    "            for r1 in [0, 1]:\n",
    "                state_to_id[(outs, r1, r2, r3)] = i\n",
    "                id_to_state[i] = (outs, r1, r2, r3)\n",
    "                i += 1\n",
    "state_to_id[\"INNING OVER\"] = i\n",
    "id_to_state[i] = \"INNING OVER\"\n",
    "\n",
    "def func(x):\n",
    "    outs = x.OUTS_CT\n",
    "    r1 = 0 if isinstance(x.BASE1_RUN_ID, float) else 1\n",
    "    r2 = 0 if isinstance(x.BASE2_RUN_ID, float) else 1\n",
    "    r3 = 0 if isinstance(x.BASE3_RUN_ID, float) else 1\n",
    "    return state_to_id[(outs, r1, r2, r3)]\n",
    "\n",
    "n = len(state_to_id)"
   ]
  },
  {
   "cell_type": "code",
   "execution_count": 4,
   "metadata": {},
   "outputs": [],
   "source": [
    "headtohead = pd.read_csv(\"data/headtohead-2017.csv\")\n",
    "batters = headtohead.groupby(\"RESP_BAT_ID\").sum()\n",
    "batter_features = batters.iloc[:,2:] / batters.B_PA[:, None]\n",
    "pitchers = headtohead.groupby(\"RESP_PIT_ID\").sum()\n",
    "pitcher_features = pitchers.iloc[:,2:] / pitchers.B_PA[:, None]"
   ]
  },
  {
   "cell_type": "code",
   "execution_count": 5,
   "metadata": {
    "scrolled": true
   },
   "outputs": [
    {
     "name": "stderr",
     "output_type": "stream",
     "text": [
      "/home/shane/miniconda3/lib/python3.7/site-packages/IPython/core/interactiveshell.py:3156: DtypeWarning: Columns (64,65,85) have mixed types.Specify dtype option on import or set low_memory=False.\n",
      "  interactivity=interactivity, compiler=compiler, result=result)\n"
     ]
    },
    {
     "data": {
      "text/html": [
       "<div>\n",
       "<style scoped>\n",
       "    .dataframe tbody tr th:only-of-type {\n",
       "        vertical-align: middle;\n",
       "    }\n",
       "\n",
       "    .dataframe tbody tr th {\n",
       "        vertical-align: top;\n",
       "    }\n",
       "\n",
       "    .dataframe thead th {\n",
       "        text-align: right;\n",
       "    }\n",
       "</style>\n",
       "<table border=\"1\" class=\"dataframe\">\n",
       "  <thead>\n",
       "    <tr style=\"text-align: right;\">\n",
       "      <th></th>\n",
       "      <th>GAME_ID</th>\n",
       "      <th>AWAY_TEAM_ID</th>\n",
       "      <th>INN_CT</th>\n",
       "      <th>BAT_HOME_ID</th>\n",
       "      <th>OUTS_CT</th>\n",
       "      <th>BALLS_CT</th>\n",
       "      <th>STRIKES_CT</th>\n",
       "      <th>PITCH_SEQ_TX</th>\n",
       "      <th>AWAY_SCORE_CT</th>\n",
       "      <th>HOME_SCORE_CT</th>\n",
       "      <th>...</th>\n",
       "      <th>B_SH</th>\n",
       "      <th>B_SF</th>\n",
       "      <th>B_XI</th>\n",
       "      <th>STATE</th>\n",
       "      <th>BAT_PIT_SAME</th>\n",
       "      <th>SCORE_DIFF</th>\n",
       "      <th>DATE</th>\n",
       "      <th>STADIUM</th>\n",
       "      <th>DOUBLEHEADER</th>\n",
       "      <th>Inning_over</th>\n",
       "    </tr>\n",
       "  </thead>\n",
       "  <tbody>\n",
       "    <tr>\n",
       "      <th>6267</th>\n",
       "      <td>ARI201803290</td>\n",
       "      <td>COL</td>\n",
       "      <td>1</td>\n",
       "      <td>0</td>\n",
       "      <td>0</td>\n",
       "      <td>2</td>\n",
       "      <td>2</td>\n",
       "      <td>BBFCS</td>\n",
       "      <td>0</td>\n",
       "      <td>0</td>\n",
       "      <td>...</td>\n",
       "      <td>0.004843</td>\n",
       "      <td>0.006053</td>\n",
       "      <td>0.0</td>\n",
       "      <td>0</td>\n",
       "      <td>True</td>\n",
       "      <td>0</td>\n",
       "      <td>2018-03-29</td>\n",
       "      <td>ARI</td>\n",
       "      <td>0</td>\n",
       "      <td>False</td>\n",
       "    </tr>\n",
       "    <tr>\n",
       "      <th>6268</th>\n",
       "      <td>ARI201803290</td>\n",
       "      <td>COL</td>\n",
       "      <td>1</td>\n",
       "      <td>0</td>\n",
       "      <td>1</td>\n",
       "      <td>2</td>\n",
       "      <td>2</td>\n",
       "      <td>CFBBX</td>\n",
       "      <td>0</td>\n",
       "      <td>0</td>\n",
       "      <td>...</td>\n",
       "      <td>0.004843</td>\n",
       "      <td>0.006053</td>\n",
       "      <td>0.0</td>\n",
       "      <td>8</td>\n",
       "      <td>False</td>\n",
       "      <td>0</td>\n",
       "      <td>2018-03-29</td>\n",
       "      <td>ARI</td>\n",
       "      <td>0</td>\n",
       "      <td>False</td>\n",
       "    </tr>\n",
       "    <tr>\n",
       "      <th>6269</th>\n",
       "      <td>ARI201803290</td>\n",
       "      <td>COL</td>\n",
       "      <td>1</td>\n",
       "      <td>0</td>\n",
       "      <td>1</td>\n",
       "      <td>2</td>\n",
       "      <td>0</td>\n",
       "      <td>BBX</td>\n",
       "      <td>1</td>\n",
       "      <td>0</td>\n",
       "      <td>...</td>\n",
       "      <td>0.004843</td>\n",
       "      <td>0.006053</td>\n",
       "      <td>0.0</td>\n",
       "      <td>8</td>\n",
       "      <td>False</td>\n",
       "      <td>1</td>\n",
       "      <td>2018-03-29</td>\n",
       "      <td>ARI</td>\n",
       "      <td>0</td>\n",
       "      <td>False</td>\n",
       "    </tr>\n",
       "    <tr>\n",
       "      <th>6270</th>\n",
       "      <td>ARI201803290</td>\n",
       "      <td>COL</td>\n",
       "      <td>1</td>\n",
       "      <td>0</td>\n",
       "      <td>1</td>\n",
       "      <td>1</td>\n",
       "      <td>2</td>\n",
       "      <td>SBCFC</td>\n",
       "      <td>1</td>\n",
       "      <td>0</td>\n",
       "      <td>...</td>\n",
       "      <td>0.004843</td>\n",
       "      <td>0.006053</td>\n",
       "      <td>0.0</td>\n",
       "      <td>9</td>\n",
       "      <td>False</td>\n",
       "      <td>1</td>\n",
       "      <td>2018-03-29</td>\n",
       "      <td>ARI</td>\n",
       "      <td>0</td>\n",
       "      <td>False</td>\n",
       "    </tr>\n",
       "    <tr>\n",
       "      <th>6271</th>\n",
       "      <td>ARI201803290</td>\n",
       "      <td>COL</td>\n",
       "      <td>1</td>\n",
       "      <td>0</td>\n",
       "      <td>2</td>\n",
       "      <td>0</td>\n",
       "      <td>2</td>\n",
       "      <td>SS&gt;S</td>\n",
       "      <td>1</td>\n",
       "      <td>0</td>\n",
       "      <td>...</td>\n",
       "      <td>0.004843</td>\n",
       "      <td>0.006053</td>\n",
       "      <td>0.0</td>\n",
       "      <td>17</td>\n",
       "      <td>True</td>\n",
       "      <td>1</td>\n",
       "      <td>2018-03-29</td>\n",
       "      <td>ARI</td>\n",
       "      <td>0</td>\n",
       "      <td>False</td>\n",
       "    </tr>\n",
       "  </tbody>\n",
       "</table>\n",
       "<p>5 rows × 136 columns</p>\n",
       "</div>"
      ],
      "text/plain": [
       "           GAME_ID AWAY_TEAM_ID  INN_CT  BAT_HOME_ID  OUTS_CT  BALLS_CT  \\\n",
       "6267  ARI201803290          COL       1            0        0         2   \n",
       "6268  ARI201803290          COL       1            0        1         2   \n",
       "6269  ARI201803290          COL       1            0        1         2   \n",
       "6270  ARI201803290          COL       1            0        1         1   \n",
       "6271  ARI201803290          COL       1            0        2         0   \n",
       "\n",
       "      STRIKES_CT PITCH_SEQ_TX  AWAY_SCORE_CT  HOME_SCORE_CT  ...      B_SH  \\\n",
       "6267           2        BBFCS              0              0  ...  0.004843   \n",
       "6268           2        CFBBX              0              0  ...  0.004843   \n",
       "6269           0          BBX              1              0  ...  0.004843   \n",
       "6270           2        SBCFC              1              0  ...  0.004843   \n",
       "6271           2         SS>S              1              0  ...  0.004843   \n",
       "\n",
       "          B_SF B_XI STATE BAT_PIT_SAME SCORE_DIFF       DATE STADIUM  \\\n",
       "6267  0.006053  0.0     0         True          0 2018-03-29     ARI   \n",
       "6268  0.006053  0.0     8        False          0 2018-03-29     ARI   \n",
       "6269  0.006053  0.0     8        False          1 2018-03-29     ARI   \n",
       "6270  0.006053  0.0     9        False          1 2018-03-29     ARI   \n",
       "6271  0.006053  0.0    17         True          1 2018-03-29     ARI   \n",
       "\n",
       "     DOUBLEHEADER Inning_over  \n",
       "6267            0       False  \n",
       "6268            0       False  \n",
       "6269            0       False  \n",
       "6270            0       False  \n",
       "6271            0       False  \n",
       "\n",
       "[5 rows x 136 columns]"
      ]
     },
     "execution_count": 5,
     "metadata": {},
     "output_type": "execute_result"
    }
   ],
   "source": [
    "df = pd.read_csv(\"data/all2018.csv\")\n",
    "df = df.join(batter_features, on='BAT_ID').join(pitcher_features, on='PIT_ID', lsuffix='_PIT')\n",
    "df[\"STATE\"] = df.apply(func, axis=1)\n",
    "df[\"BAT_PIT_SAME\"] = df.BAT_HAND_CD == df.PIT_HAND_CD\n",
    "df[\"SCORE_DIFF\"] = (df[\"BAT_HOME_ID\"] * 2 - 1) * (df.HOME_SCORE_CT - df.AWAY_SCORE_CT)\n",
    "df[\"DATE\"] = pd.to_datetime(df.GAME_ID.str[3:-1], format=\"%Y%m%d\")\n",
    "df[\"STADIUM\"] = df.GAME_ID.str[:3]\n",
    "df[\"DOUBLEHEADER\"] = df.GAME_ID.str[-1]\n",
    "df.sort_values(by=[\"DATE\", \"STADIUM\", \"DOUBLEHEADER\", \"EVENT_ID\"], inplace=True)\n",
    "df[\"Inning_over\"] = (df[[\"INN_CT\", \"BAT_HOME_ID\"]].shift(1) != df[[\"INN_CT\", \"BAT_HOME_ID\"]]).any(axis=1)\n",
    "df.iloc[0, -1] = False\n",
    "df.head(5)"
   ]
  },
  {
   "cell_type": "code",
   "execution_count": 6,
   "metadata": {},
   "outputs": [
    {
     "name": "stderr",
     "output_type": "stream",
     "text": [
      "/home/shane/miniconda3/lib/python3.7/site-packages/ipykernel_launcher.py:8: SettingWithCopyWarning: \n",
      "A value is trying to be set on a copy of a slice from a DataFrame\n",
      "\n",
      "See the caveats in the documentation: https://pandas.pydata.org/pandas-docs/stable/user_guide/indexing.html#returning-a-view-versus-a-copy\n",
      "  \n",
      "/home/shane/miniconda3/lib/python3.7/site-packages/ipykernel_launcher.py:9: SettingWithCopyWarning: \n",
      "A value is trying to be set on a copy of a slice from a DataFrame\n",
      "\n",
      "See the caveats in the documentation: https://pandas.pydata.org/pandas-docs/stable/user_guide/indexing.html#returning-a-view-versus-a-copy\n",
      "  if __name__ == '__main__':\n",
      "/home/shane/miniconda3/lib/python3.7/site-packages/ipykernel_launcher.py:10: SettingWithCopyWarning: \n",
      "A value is trying to be set on a copy of a slice from a DataFrame\n",
      "\n",
      "See the caveats in the documentation: https://pandas.pydata.org/pandas-docs/stable/user_guide/indexing.html#returning-a-view-versus-a-copy\n",
      "  # Remove the CWD from sys.path while we load stuff.\n"
     ]
    }
   ],
   "source": [
    "features_df = df[['SCORE_DIFF', 'BAT_LINEUP_ID', 'BAT_HOME_ID', 'INN_CT', 'B_AB_PIT',\n",
    "       'B_H_PIT', 'B_TB_PIT', 'B_2B_PIT', 'B_3B_PIT', 'B_HR_PIT', 'B_HR4_PIT',\n",
    "       'B_RBI_PIT', 'B_BB_PIT', 'B_IBB_PIT', 'B_SO_PIT', 'B_GDP_PIT',\n",
    "       'B_HP_PIT', 'B_SH_PIT', 'B_SF_PIT', 'B_XI_PIT', 'B_AB', 'B_H', 'B_TB',\n",
    "       'B_2B', 'B_3B', 'B_HR', 'B_HR4', 'B_RBI', 'B_BB', 'B_IBB', 'B_SO',\n",
    "       'B_GDP', 'B_HP', 'B_SH', 'B_SF', 'B_XI', 'BAT_HAND_CD', 'PIT_HAND_CD',\n",
    "       'BAT_PIT_SAME']].copy()\n",
    "features_df.INN_CT[features_df.INN_CT >= 10] = 10\n",
    "features_df.SCORE_DIFF[features_df.SCORE_DIFF >= 3] = 3\n",
    "features_df.SCORE_DIFF[features_df.SCORE_DIFF <= -3] = -3\n",
    "dummy_cols = [\"BAT_HAND_CD\", \"PIT_HAND_CD\", \"INN_CT\", \"BAT_LINEUP_ID\", \"SCORE_DIFF\"]\n",
    "for c in dummy_cols:\n",
    "    features_df = pd.concat([features_df, pd.get_dummies(features_df[c], prefix=c)], axis=1)\n",
    "features_df.drop(dummy_cols, axis=1, inplace=True)\n",
    "features = features_df.values.astype(float)"
   ]
  },
  {
   "cell_type": "code",
   "execution_count": 7,
   "metadata": {},
   "outputs": [],
   "source": [
    "# features_df = df[['BAT_LINEUP_ID']].copy()\n",
    "# # features_df.INN_CT[features_df.INN_CT >= 10] = 10\n",
    "# # features_df.SCORE_DIFF[features_df.SCORE_DIFF >= 3] = 3\n",
    "# # features_df.SCORE_DIFF[features_df.SCORE_DIFF <= -3] = -3\n",
    "# dummy_cols = [\"BAT_LINEUP_ID\"]\n",
    "# for c in dummy_cols:\n",
    "#     features_df = pd.concat([features_df, pd.get_dummies(features_df[c], prefix=c)], axis=1)\n",
    "# features_df.drop(dummy_cols, axis=1, inplace=True)\n",
    "# features = features_df.values"
   ]
  },
  {
   "cell_type": "code",
   "execution_count": 8,
   "metadata": {},
   "outputs": [
    {
     "data": {
      "text/plain": [
       "294.0"
      ]
     },
     "execution_count": 8,
     "metadata": {},
     "output_type": "execute_result"
    }
   ],
   "source": [
    "M = np.zeros((n, n))\n",
    "R = np.zeros((n, n))\n",
    "for i in range(n):\n",
    "    for j in range(n):\n",
    "        if i == n-1:\n",
    "            M[i, j] = 0 if j != n-1 else 1\n",
    "        else:\n",
    "            o_start, r1_start, r2_start, r3_start = id_to_state[i]\n",
    "            if j == n-1:\n",
    "                M[i, j] = 1 if o_start + r1_start + r2_start + r3_start + 1 >= 3 else 0\n",
    "            else:\n",
    "                o_end, r1_end, r2_end, r3_end = id_to_state[j]\n",
    "                o = o_end - o_start\n",
    "                r_start = r1_start + r2_start + r3_start\n",
    "                r_end = r1_end + r2_end + r3_end\n",
    "                runs = r_start - r_end + 1 - o\n",
    "                runner_backwards = r3_start == 1 and r2_start == 0 and r1_start == 0 and r1_end == 1 and r2_end == 1\n",
    "                M[i, j] = 1 if runs >= 0 and runs + o <= r_start + 1 and o >= 0 and not runner_backwards else 0\n",
    "                R[i, j] = 0 if M[i, j] == 0 else runs\n",
    "M.sum()"
   ]
  },
  {
   "cell_type": "code",
   "execution_count": 9,
   "metadata": {},
   "outputs": [],
   "source": [
    "states = df[\"STATE\"].values.copy()\n",
    "lengths = np.diff(np.append(np.append(0, np.where(df[\"Inning_over\"])[0]), df.shape[0])).copy()\n",
    "i = 0\n",
    "states_new = []\n",
    "features_new = []\n",
    "lengths_new = []\n",
    "for l in lengths:\n",
    "    if M[states[i:i+l][-1], 24] == 0: # game over early\n",
    "        states_new += [states[i:i+l]]\n",
    "        features_new += [features[i:i+l]]\n",
    "        lengths_new += [l]\n",
    "    else:\n",
    "        states_new += [np.append(states[i:i+l], state_to_id[\"INNING OVER\"])]\n",
    "        features_new += [np.vstack([features[i:i+l], np.zeros((1, features.shape[1]))])]\n",
    "        lengths_new += [l + 1]\n",
    "    i += l\n",
    "states = np.concatenate(states_new)\n",
    "features = np.vstack(features_new)\n",
    "lengths = np.array(lengths_new)"
   ]
  },
  {
   "cell_type": "code",
   "execution_count": 10,
   "metadata": {},
   "outputs": [],
   "source": [
    "train_idx = int(lengths.size * .8)\n",
    "val_idx = int(lengths.size * .9)\n",
    "\n",
    "lengths_train = lengths[:train_idx]\n",
    "lengths_val = lengths[train_idx:val_idx]\n",
    "lengths_test = lengths[val_idx:]\n",
    "\n",
    "states_train = states[:lengths_train.sum()]\n",
    "states_val = states[lengths_train.sum():lengths_train.sum()+lengths_val.sum()]\n",
    "states_test = states[lengths_train.sum()+lengths_val.sum():]\n",
    "\n",
    "features_train = features[:lengths_train.sum()]\n",
    "features_val = features[lengths_train.sum():lengths_train.sum()+lengths_val.sum()]\n",
    "features_test = features[lengths_train.sum()+lengths_val.sum():]\n",
    "\n",
    "# lengths_train = lengths_train[:5000]\n",
    "# states_train = states_train[:sum(lengths_train)]\n",
    "# features_train = features_train[:sum(lengths_train)]\n",
    "\n",
    "# append some inning over sequences\n",
    "states_train = np.append(states_train, [state_to_id[\"INNING OVER\"]]*20)\n",
    "lengths_train = np.append(lengths_train, 20)\n",
    "features_train = np.vstack([features_train, np.zeros((20, features.shape[1]))])"
   ]
  },
  {
   "cell_type": "code",
   "execution_count": 11,
   "metadata": {},
   "outputs": [
    {
     "data": {
      "text/plain": [
       "((187612, 64), (23482, 64), (23545, 64))"
      ]
     },
     "execution_count": 11,
     "metadata": {},
     "output_type": "execute_result"
    }
   ],
   "source": [
    "features_train.shape, features_val.shape, features_test.shape"
   ]
  },
  {
   "cell_type": "code",
   "execution_count": 12,
   "metadata": {},
   "outputs": [],
   "source": [
    "from sklearn.preprocessing import QuantileTransformer, StandardScaler\n",
    "ss = StandardScaler()\n",
    "\n",
    "features_train = ss.fit_transform(features_train)\n",
    "features_val = ss.transform(features_val)\n",
    "features_test = ss.transform(features_test)"
   ]
  },
  {
   "cell_type": "code",
   "execution_count": 13,
   "metadata": {},
   "outputs": [
    {
     "name": "stderr",
     "output_type": "stream",
     "text": [
      "/home/shane/miniconda3/lib/python3.7/site-packages/ipykernel_launcher.py:10: RuntimeWarning: invalid value encountered in true_divide\n",
      "  # Remove the CWD from sys.path while we load stuff.\n"
     ]
    },
    {
     "data": {
      "image/png": "[encoded data removed]",
      "text/plain": [
       "<Figure size 432x288 with 2 Axes>"
      ]
     },
     "metadata": {
      "needs_background": "light"
     },
     "output_type": "display_data"
    }
   ],
   "source": [
    "i = 0\n",
    "P = np.zeros((25, 25))\n",
    "for l in lengths:\n",
    "    for j in range(i, i+l-1):\n",
    "        if M[states[j], states[j+1]] == 0:\n",
    "            print(\"ERROR\")\n",
    "            print (j, j+1)\n",
    "        P[states[j], states[j+1]] += 1\n",
    "    i += l\n",
    "P = P / P.sum(axis=1)[:, None]\n",
    "P[-1,:] = 0.\n",
    "P[-1,-1] = 1.\n",
    "plt.imshow(P, vmin=0, vmax=1)\n",
    "plt.colorbar()\n",
    "plt.savefig(\"figs/baseball_empirical.pdf\")"
   ]
  },
  {
   "cell_type": "code",
   "execution_count": 14,
   "metadata": {},
   "outputs": [
    {
     "data": {
      "text/plain": [
       "(279, 294.0)"
      ]
     },
     "execution_count": 14,
     "metadata": {},
     "output_type": "execute_result"
    }
   ],
   "source": [
    "(P > 0).sum(), M.sum()"
   ]
  },
  {
   "cell_type": "code",
   "execution_count": 15,
   "metadata": {},
   "outputs": [
    {
     "data": {
      "text/plain": [
       "0.4464"
      ]
     },
     "execution_count": 15,
     "metadata": {},
     "output_type": "execute_result"
    }
   ],
   "source": [
    "(P > 0).sum() / np.prod(P.shape)"
   ]
  },
  {
   "cell_type": "code",
   "execution_count": 16,
   "metadata": {},
   "outputs": [
    {
     "data": {
      "text/plain": [
       "False"
      ]
     },
     "execution_count": 16,
     "metadata": {},
     "output_type": "execute_result"
    }
   ],
   "source": [
    "((P > 0) & ~(M > 0)).any()"
   ]
  },
  {
   "cell_type": "code",
   "execution_count": 17,
   "metadata": {},
   "outputs": [],
   "source": [
    "M = P > 0"
   ]
  },
  {
   "cell_type": "code",
   "execution_count": 18,
   "metadata": {},
   "outputs": [],
   "source": [
    "runs_list = []\n",
    "atbats = []\n",
    "for _ in range(1_000):\n",
    "    state = 0\n",
    "    runs = 0\n",
    "    i = 1\n",
    "    while True:\n",
    "        outs, r1, r2, r3 = id_to_state[state]\n",
    "        next_state = np.random.choice(np.arange(25), p=P[state])\n",
    "        if id_to_state[next_state] == \"INNING OVER\":\n",
    "            break\n",
    "        runs += R[state, next_state]\n",
    "        state = next_state\n",
    "        i += 1\n",
    "    atbats.append(i)\n",
    "    runs_list.append(runs)"
   ]
  },
  {
   "cell_type": "code",
   "execution_count": 19,
   "metadata": {},
   "outputs": [
    {
     "data": {
      "text/plain": [
       "39.96"
      ]
     },
     "execution_count": 19,
     "metadata": {},
     "output_type": "execute_result"
    }
   ],
   "source": [
    "np.mean(atbats) * 9"
   ]
  },
  {
   "cell_type": "code",
   "execution_count": 20,
   "metadata": {},
   "outputs": [
    {
     "name": "stdout",
     "output_type": "stream",
     "text": [
      "0.673\n"
     ]
    },
    {
     "data": {
      "image/png": "[encoded data removed]",
      "text/plain": [
       "<Figure size 432x288 with 1 Axes>"
      ]
     },
     "metadata": {
      "needs_background": "light"
     },
     "output_type": "display_data"
    }
   ],
   "source": [
    "plt.hist(runs_list, bins=100);\n",
    "print(np.mean(runs_list))"
   ]
  },
  {
   "cell_type": "code",
   "execution_count": 21,
   "metadata": {
    "scrolled": true
   },
   "outputs": [
    {
     "name": "stdout",
     "output_type": "stream",
     "text": [
      "The second most probable transitions\n",
      "(0, 0, 0, 0) (0, 1, 0, 0) 0.231\n",
      "(0, 1, 0, 0) (0, 1, 1, 0) 0.191\n",
      "(0, 0, 1, 0) (1, 0, 0, 1) 0.226\n",
      "(0, 1, 1, 0) (0, 1, 1, 1) 0.16\n",
      "(0, 0, 0, 1) (1, 0, 0, 0) 0.207\n",
      "(0, 1, 0, 1) (1, 1, 0, 0) 0.17\n",
      "(0, 0, 1, 1) (1, 0, 0, 1) 0.148\n",
      "(0, 1, 1, 1) (0, 1, 1, 1) 0.174\n",
      "(1, 0, 0, 0) (1, 1, 0, 0) 0.231\n",
      "(1, 1, 0, 0) (1, 1, 1, 0) 0.18\n",
      "(1, 0, 1, 0) (2, 0, 0, 1) 0.163\n",
      "(1, 1, 1, 0) (1, 1, 1, 1) 0.154\n",
      "(1, 0, 0, 1) (2, 0, 0, 0) 0.199\n",
      "(1, 1, 0, 1) (2, 1, 0, 0) 0.149\n",
      "(1, 0, 1, 1) (1, 1, 1, 1) 0.191\n",
      "(1, 1, 1, 1) (1, 1, 1, 1) 0.146\n",
      "(2, 0, 0, 0) (2, 1, 0, 0) 0.237\n",
      "(2, 1, 0, 0) (2, 1, 1, 0) 0.162\n",
      "(2, 0, 1, 0) (2, 1, 1, 0) 0.156\n",
      "(2, 1, 1, 0) (2, 1, 1, 1) 0.128\n",
      "(2, 0, 0, 1) (2, 1, 0, 1) 0.155\n",
      "(2, 1, 0, 1) (2, 0, 1, 1) 0.128\n",
      "(2, 0, 1, 1) (2, 1, 1, 1) 0.183\n",
      "(2, 1, 1, 1) (2, 1, 1, 1) 0.116\n",
      "INNING OVER (1, 1, 1, 0) 0.0\n"
     ]
    }
   ],
   "source": [
    "print(\"The second most probable transitions\")\n",
    "for i in range(25):\n",
    "    print(id_to_state[i], id_to_state[np.argsort(P[i])[-2]], round(np.sort(P[i])[-2], 3))"
   ]
  },
  {
   "cell_type": "code",
   "execution_count": 22,
   "metadata": {},
   "outputs": [
    {
     "name": "stderr",
     "output_type": "stream",
     "text": [
      "/home/shane/src/github.com/cvxgrp/mkvchain/model.py:308: RuntimeWarning: divide by zero encountered in log\n",
      "  z = np.log(Ps[:, i, :])\n"
     ]
    },
    {
     "data": {
      "text/plain": [
       "(-147840.7743747866, -15071.111878079691, -14487.977533777637)"
      ]
     },
     "execution_count": 22,
     "metadata": {},
     "output_type": "execute_result"
    }
   ],
   "source": [
    "model1 = FeatureDependentMarkovChain(n, lam_frob=0, mask=M, n_iter=1)\n",
    "model1.fit(states_train, features_train*0, lengths_train, verbose=False)\n",
    "train1, val1, test1 = model1.score(states_train, features_train*0, lengths_train, average=False), \\\n",
    "    model1.score(states_val, features_val*0, lengths_val, average=False), \\\n",
    "    model1.score(states_test, features_test*0, lengths_test, average=False)\n",
    "train1, val1, test1"
   ]
  },
  {
   "cell_type": "code",
   "execution_count": 23,
   "metadata": {},
   "outputs": [
    {
     "data": {
      "text/plain": [
       "(-145456.79343146144, -15013.002357299538, -14412.361684193724)"
      ]
     },
     "execution_count": 23,
     "metadata": {},
     "output_type": "execute_result"
    }
   ],
   "source": [
    "from copy import deepcopy\n",
    "train2, val2, test2 = -np.inf, -np.inf, -np.inf\n",
    "best_lam = None\n",
    "model2 = None\n",
    "for lam in np.logspace(-3,-1,10):\n",
    "    model = FeatureDependentMarkovChain(n, lam_frob=lam, mask=M, n_iter=1)\n",
    "    model.As = deepcopy(model1.As)\n",
    "    model.bs = deepcopy(model1.bs)\n",
    "    model.fit(states_train, features_train, lengths_train, verbose=False, warm_start=True)\n",
    "    traini, vali, testi = model.score(states_train, features_train, lengths_train, average=False), \\\n",
    "          model.score(states_val, features_val, lengths_val, average=False), \\\n",
    "          model.score(states_test, features_test, lengths_test, average=False)\n",
    "    if vali > val2:\n",
    "        train2 = traini\n",
    "        val2 = vali\n",
    "        test2 = testi\n",
    "        best_lam = lam\n",
    "        model2 = model\n",
    "train2, val2, test2"
   ]
  },
  {
   "cell_type": "code",
   "execution_count": 24,
   "metadata": {},
   "outputs": [],
   "source": [
    "model = FeatureDependentMarkovChain(n, lam_frob=best_lam, mask=M, n_iter=1)\n",
    "model.As = deepcopy(model1.As)\n",
    "model.bs = deepcopy(model1.bs)\n",
    "model.fit(states_train, features_train, lengths_train, verbose=False, warm_start=True)"
   ]
  },
  {
   "cell_type": "code",
   "execution_count": 25,
   "metadata": {},
   "outputs": [
    {
     "data": {
      "text/plain": [
       "array([[[2.54118400e-02, 2.26631249e-01, 5.09128288e-02, ...,\n",
       "         0.00000000e+00, 0.00000000e+00, 0.00000000e+00],\n",
       "        [2.57215796e-02, 2.83765463e-04, 7.32242383e-02, ...,\n",
       "         0.00000000e+00, 0.00000000e+00, 0.00000000e+00],\n",
       "        [2.18108394e-02, 5.13765559e-02, 4.77967634e-02, ...,\n",
       "         0.00000000e+00, 0.00000000e+00, 0.00000000e+00],\n",
       "        ...,\n",
       "        [0.00000000e+00, 0.00000000e+00, 0.00000000e+00, ...,\n",
       "         0.00000000e+00, 1.89034825e-01, 6.06714555e-01],\n",
       "        [0.00000000e+00, 0.00000000e+00, 0.00000000e+00, ...,\n",
       "         3.82041629e-02, 1.32766103e-01, 6.80820772e-01],\n",
       "        [0.00000000e+00, 0.00000000e+00, 0.00000000e+00, ...,\n",
       "         0.00000000e+00, 0.00000000e+00, 1.00000000e+00]],\n",
       "\n",
       "       [[2.46484083e-02, 2.30759527e-01, 5.75518643e-02, ...,\n",
       "         0.00000000e+00, 0.00000000e+00, 0.00000000e+00],\n",
       "        [2.96723907e-02, 2.99663459e-04, 7.62812851e-02, ...,\n",
       "         0.00000000e+00, 0.00000000e+00, 0.00000000e+00],\n",
       "        [2.07895933e-02, 5.34024725e-02, 4.94663406e-02, ...,\n",
       "         0.00000000e+00, 0.00000000e+00, 0.00000000e+00],\n",
       "        ...,\n",
       "        [0.00000000e+00, 0.00000000e+00, 0.00000000e+00, ...,\n",
       "         0.00000000e+00, 1.73155950e-01, 6.22681520e-01],\n",
       "        [0.00000000e+00, 0.00000000e+00, 0.00000000e+00, ...,\n",
       "         3.82413678e-02, 1.19238290e-01, 6.98788079e-01],\n",
       "        [0.00000000e+00, 0.00000000e+00, 0.00000000e+00, ...,\n",
       "         0.00000000e+00, 0.00000000e+00, 1.00000000e+00]],\n",
       "\n",
       "       [[4.15639862e-02, 2.40177909e-01, 7.03930677e-02, ...,\n",
       "         0.00000000e+00, 0.00000000e+00, 0.00000000e+00],\n",
       "        [2.86819831e-02, 2.71796035e-04, 5.29184045e-02, ...,\n",
       "         0.00000000e+00, 0.00000000e+00, 0.00000000e+00],\n",
       "        [2.33252583e-02, 5.68761715e-02, 4.31077365e-02, ...,\n",
       "         0.00000000e+00, 0.00000000e+00, 0.00000000e+00],\n",
       "        ...,\n",
       "        [0.00000000e+00, 0.00000000e+00, 0.00000000e+00, ...,\n",
       "         0.00000000e+00, 2.40858205e-01, 5.53848300e-01],\n",
       "        [0.00000000e+00, 0.00000000e+00, 0.00000000e+00, ...,\n",
       "         3.70733378e-02, 1.12073150e-01, 7.04460218e-01],\n",
       "        [0.00000000e+00, 0.00000000e+00, 0.00000000e+00, ...,\n",
       "         0.00000000e+00, 0.00000000e+00, 1.00000000e+00]],\n",
       "\n",
       "       ...,\n",
       "\n",
       "       [[2.14123996e-02, 2.73273622e-01, 3.93041969e-02, ...,\n",
       "         0.00000000e+00, 0.00000000e+00, 0.00000000e+00],\n",
       "        [2.20078608e-02, 2.92229787e-04, 7.11876880e-02, ...,\n",
       "         0.00000000e+00, 0.00000000e+00, 0.00000000e+00],\n",
       "        [2.01319796e-02, 4.34871814e-02, 4.81702741e-02, ...,\n",
       "         0.00000000e+00, 0.00000000e+00, 0.00000000e+00],\n",
       "        ...,\n",
       "        [0.00000000e+00, 0.00000000e+00, 0.00000000e+00, ...,\n",
       "         0.00000000e+00, 1.47486578e-01, 6.69928480e-01],\n",
       "        [0.00000000e+00, 0.00000000e+00, 0.00000000e+00, ...,\n",
       "         3.69787654e-02, 1.13641150e-01, 7.04816396e-01],\n",
       "        [0.00000000e+00, 0.00000000e+00, 0.00000000e+00, ...,\n",
       "         0.00000000e+00, 0.00000000e+00, 1.00000000e+00]],\n",
       "\n",
       "       [[2.14123996e-02, 2.73273622e-01, 3.93041969e-02, ...,\n",
       "         0.00000000e+00, 0.00000000e+00, 0.00000000e+00],\n",
       "        [2.20078608e-02, 2.92229787e-04, 7.11876880e-02, ...,\n",
       "         0.00000000e+00, 0.00000000e+00, 0.00000000e+00],\n",
       "        [2.01319796e-02, 4.34871814e-02, 4.81702741e-02, ...,\n",
       "         0.00000000e+00, 0.00000000e+00, 0.00000000e+00],\n",
       "        ...,\n",
       "        [0.00000000e+00, 0.00000000e+00, 0.00000000e+00, ...,\n",
       "         0.00000000e+00, 1.47486578e-01, 6.69928480e-01],\n",
       "        [0.00000000e+00, 0.00000000e+00, 0.00000000e+00, ...,\n",
       "         3.69787654e-02, 1.13641150e-01, 7.04816396e-01],\n",
       "        [0.00000000e+00, 0.00000000e+00, 0.00000000e+00, ...,\n",
       "         0.00000000e+00, 0.00000000e+00, 1.00000000e+00]],\n",
       "\n",
       "       [[2.14123996e-02, 2.73273622e-01, 3.93041969e-02, ...,\n",
       "         0.00000000e+00, 0.00000000e+00, 0.00000000e+00],\n",
       "        [2.20078608e-02, 2.92229787e-04, 7.11876880e-02, ...,\n",
       "         0.00000000e+00, 0.00000000e+00, 0.00000000e+00],\n",
       "        [2.01319796e-02, 4.34871814e-02, 4.81702741e-02, ...,\n",
       "         0.00000000e+00, 0.00000000e+00, 0.00000000e+00],\n",
       "        ...,\n",
       "        [0.00000000e+00, 0.00000000e+00, 0.00000000e+00, ...,\n",
       "         0.00000000e+00, 1.47486578e-01, 6.69928480e-01],\n",
       "        [0.00000000e+00, 0.00000000e+00, 0.00000000e+00, ...,\n",
       "         3.69787654e-02, 1.13641150e-01, 7.04816396e-01],\n",
       "        [0.00000000e+00, 0.00000000e+00, 0.00000000e+00, ...,\n",
       "         0.00000000e+00, 0.00000000e+00, 1.00000000e+00]]])"
      ]
     },
     "execution_count": 25,
     "metadata": {},
     "output_type": "execute_result"
    }
   ],
   "source": [
    "model.predict(features_train)"
   ]
  },
  {
   "cell_type": "code",
   "execution_count": 26,
   "metadata": {},
   "outputs": [
    {
     "name": "stdout",
     "output_type": "stream",
     "text": [
      "\n",
      "\n",
      " 0\n",
      "(1, 0, 1, 0) 0.06716628865083432\n",
      "(0, 0, 1, 0) 0.07322423826272585\n",
      "(2, 0, 0, 0) 0.09163860466345301\n",
      "(0, 1, 1, 0) 0.20083942931811075\n",
      "(1, 1, 0, 0) 0.439779071225554\n",
      "\n",
      "\n",
      " 100\n",
      "(1, 0, 1, 0) 0.06511321387524104\n",
      "(0, 0, 1, 0) 0.06859931111067659\n",
      "(2, 0, 0, 0) 0.08831620287377967\n",
      "(0, 1, 1, 0) 0.19087327086425113\n",
      "(1, 1, 0, 0) 0.4535040307425999\n",
      "\n",
      "\n",
      " 200\n",
      "(1, 0, 1, 0) 0.0675354408942779\n",
      "(2, 0, 0, 0) 0.0747115607451427\n",
      "(0, 0, 1, 0) 0.07971242826743766\n",
      "(0, 1, 1, 0) 0.19078912841840662\n",
      "(1, 1, 0, 0) 0.4555513610387755\n",
      "\n",
      "\n",
      " 300\n",
      "(0, 0, 1, 0) 0.06138181463442757\n",
      "(2, 0, 0, 0) 0.09289461204069066\n",
      "(1, 0, 1, 0) 0.14956043429474325\n",
      "(0, 1, 1, 0) 0.2125938864583607\n",
      "(1, 1, 0, 0) 0.3751551835705879\n"
     ]
    }
   ],
   "source": [
    "for j in [0, 100, 200, 300]:\n",
    "    print(\"\\n\\n\", j)\n",
    "    P = model.predict(features_train[j:j+1])[0]\n",
    "    p = P[state_to_id[(0,1,0,0)]]\n",
    "    for i in np.argsort(p)[-5:]:\n",
    "        print(id_to_state[i], p[i])"
   ]
  },
  {
   "cell_type": "code",
   "execution_count": 27,
   "metadata": {},
   "outputs": [
    {
     "data": {
      "text/plain": [
       "Index(['BAT_HOME_ID', 'B_AB_PIT', 'B_H_PIT', 'B_TB_PIT', 'B_2B_PIT',\n",
       "       'B_3B_PIT', 'B_HR_PIT', 'B_HR4_PIT', 'B_RBI_PIT', 'B_BB_PIT',\n",
       "       'B_IBB_PIT', 'B_SO_PIT', 'B_GDP_PIT', 'B_HP_PIT', 'B_SH_PIT',\n",
       "       'B_SF_PIT', 'B_XI_PIT', 'B_AB', 'B_H', 'B_TB', 'B_2B', 'B_3B', 'B_HR',\n",
       "       'B_HR4', 'B_RBI', 'B_BB', 'B_IBB', 'B_SO', 'B_GDP', 'B_HP', 'B_SH',\n",
       "       'B_SF', 'B_XI', 'BAT_PIT_SAME', 'BAT_HAND_CD_L', 'BAT_HAND_CD_R',\n",
       "       'PIT_HAND_CD_L', 'PIT_HAND_CD_R', 'INN_CT_1', 'INN_CT_2', 'INN_CT_3',\n",
       "       'INN_CT_4', 'INN_CT_5', 'INN_CT_6', 'INN_CT_7', 'INN_CT_8', 'INN_CT_9',\n",
       "       'INN_CT_10', 'BAT_LINEUP_ID_1', 'BAT_LINEUP_ID_2', 'BAT_LINEUP_ID_3',\n",
       "       'BAT_LINEUP_ID_4', 'BAT_LINEUP_ID_5', 'BAT_LINEUP_ID_6',\n",
       "       'BAT_LINEUP_ID_7', 'BAT_LINEUP_ID_8', 'BAT_LINEUP_ID_9',\n",
       "       'SCORE_DIFF_-3', 'SCORE_DIFF_-2', 'SCORE_DIFF_-1', 'SCORE_DIFF_0',\n",
       "       'SCORE_DIFF_1', 'SCORE_DIFF_2', 'SCORE_DIFF_3'],\n",
       "      dtype='object')"
      ]
     },
     "execution_count": 27,
     "metadata": {},
     "output_type": "execute_result"
    }
   ],
   "source": [
    "features_df.columns"
   ]
  },
  {
   "cell_type": "code",
   "execution_count": 28,
   "metadata": {},
   "outputs": [
    {
     "name": "stdout",
     "output_type": "stream",
     "text": [
      "most positive effect Index(['B_SO_PIT', 'B_BB_PIT', 'B_RBI_PIT', 'BAT_LINEUP_ID_4', 'B_HR_PIT'], dtype='object')\n",
      "most negative effect Index(['INN_CT_10', 'B_SH_PIT', 'BAT_LINEUP_ID_9', 'B_3B_PIT',\n",
      "       'BAT_LINEUP_ID_8'],\n",
      "      dtype='object')\n"
     ]
    }
   ],
   "source": [
    "starting_state = state_to_id[(0,0,0,0)]\n",
    "ending_state = state_to_id[(0,0,0,0)]\n",
    "j = np.where(model.nonzero[starting_state] == ending_state)[0][0]\n",
    "A, b = model.As[starting_state], model.bs[starting_state]\n",
    "print(\"most positive effect\", features_df.columns[np.argsort(A[:,j])[-5:]])\n",
    "print(\"most negative effect\", features_df.columns[np.argsort(A[:,j])[:5]])"
   ]
  },
  {
   "cell_type": "markdown",
   "metadata": {},
   "source": [
    "## With column norm regularization"
   ]
  },
  {
   "cell_type": "code",
   "execution_count": 29,
   "metadata": {
    "scrolled": true
   },
   "outputs": [
    {
     "name": "stdout",
     "output_type": "stream",
     "text": [
      "0 1.0 1.1976343473541569\n",
      "1 1.2 1.1975774357113402\n",
      "2 1.44 1.1975202948806896\n",
      "3 1.728 1.1974641763351277\n",
      "4 2.0736 1.197410270972685\n",
      "5 2.48832 1.1973595862217634\n",
      "6 2.9859839999999997 1.1973128806449236\n",
      "7 3.5831807999999996 1.197270651791671\n",
      "8 4.299816959999999 1.197233178144832\n",
      "9 5.159780351999999 1.1972005878539826\n",
      "10 6.191736422399999 1.1971729164428968\n",
      "11 7.430083706879999 1.1971501251641945\n",
      "12 8.916100448255998 1.197132075431848\n",
      "13 10.699320537907196 1.197118479126248\n",
      "14 12.839184645488634 1.1971088821513423\n",
      "15 15.407021574586361 1.1971025924789618\n",
      "16 18.48842588950363 1.1970988342514923\n",
      "17 22.186111067404358 1.1970968311199455\n",
      "18 26.62333328088523 1.197095900343922\n",
      "19 31.947999937062274 1.1970955278566826\n",
      "20 38.33759992447473 1.1970954044523285\n",
      "21 11.501279977342419 1.197095374989699\n",
      "22 13.801535972810901 1.197095356573695\n",
      "23 16.56184316737308 1.1970953408415743\n",
      "24 19.874211800847696 1.1970953283523285\n",
      "25 11.924527080508618 1.1970953172048528\n",
      "26 14.309432496610341 1.197095308787631\n",
      "27 17.17131899593241 1.1970953009031264\n",
      "28 20.60558279511889 1.1970952944455315\n",
      "29 12.363349677071335 1.1970952879461456\n",
      "30 14.836019612485602 1.1970952829888004\n",
      "31 17.80322353498272 1.197095278473021\n",
      "32 21.363868241979265 1.1970952756506763\n",
      "33 12.818320945187558 1.1970952707678997\n",
      "34 15.381985134225069 1.1970952676571291\n",
      "35 18.45838216107008 1.1970952655079616\n",
      "36 11.075029296642048 1.1970952619244093\n",
      "37 13.290035155970457 1.197095259825722\n",
      "38 15.948042187164548 1.197095257808286\n",
      "39 19.137650624597455 1.197095255863225\n",
      "-147588.87309452446 -15054.205971301353 -14463.155399080637\n"
     ]
    },
    {
     "data": {
      "text/plain": [
       "Index(['B_HR_PIT', 'B_BB_PIT', 'B_SO_PIT', 'B_SH_PIT', 'B_3B', 'INN_CT_9',\n",
       "       'BAT_LINEUP_ID_1', 'BAT_LINEUP_ID_9', 'SCORE_DIFF_-3'],\n",
       "      dtype='object')"
      ]
     },
     "execution_count": 29,
     "metadata": {},
     "output_type": "execute_result"
    }
   ],
   "source": [
    "model = FeatureDependentMarkovChain(n, lam_frob=0.0046, mask=M, n_iter=1, lam_col_norm=0.0045)\n",
    "model.As = deepcopy(model1.As)\n",
    "model.bs = deepcopy(model1.bs)\n",
    "model.fit(states_train, features_train, lengths_train, verbose=False, warm_start=True)\n",
    "train3, val3, test3 = model.score(states_train, features_train, lengths_train, average=False), \\\n",
    "    model.score(states_val, features_val, lengths_val, average=False), \\\n",
    "    model.score(states_test, features_test, lengths_test, average=False)\n",
    "nnz = []\n",
    "for i in range(model.As[0].shape[0]):\n",
    "    col_norm = np.linalg.norm(np.concatenate([A[i,:] for A in model.As]))\n",
    "    if col_norm > 0:\n",
    "        nnz.append(i)\n",
    "print(train3, val3, test3)\n",
    "features_df.columns[nnz]"
   ]
  },
  {
   "cell_type": "code",
   "execution_count": 30,
   "metadata": {},
   "outputs": [],
   "source": [
    "nnz = np.array(nnz)"
   ]
  },
  {
   "cell_type": "code",
   "execution_count": 31,
   "metadata": {
    "scrolled": true
   },
   "outputs": [
    {
     "data": {
      "text/plain": [
       "(-146947.37282030468, -15010.968129790797, -14413.498221633326)"
      ]
     },
     "execution_count": 31,
     "metadata": {},
     "output_type": "execute_result"
    }
   ],
   "source": [
    "train4, val4, test4 = -float(\"inf\"), -float(\"inf\"), -float(\"inf\")\n",
    "for lam in np.logspace(-3,-1,10):\n",
    "    model = FeatureDependentMarkovChain(n, lam_frob=0.0046, mask=M, n_iter=1)\n",
    "    model.fit(states_train, features_train[:,nnz], lengths_train, verbose=False, warm_start=False)\n",
    "    traini, vali, testi = model.score(states_train, features_train[:,nnz], lengths_train, average=False), \\\n",
    "        model.score(states_val, features_val[:,nnz], lengths_val, average=False), \\\n",
    "        model.score(states_test, features_test[:,nnz], lengths_test, average=False)\n",
    "    if vali > val4:\n",
    "        train4 = traini\n",
    "        val4 = vali\n",
    "        test4 = testi\n",
    "train4, val4, test4"
   ]
  },
  {
   "cell_type": "code",
   "execution_count": 32,
   "metadata": {},
   "outputs": [
    {
     "name": "stdout",
     "output_type": "stream",
     "text": [
      "Empirical & -147840.77 & -15071.11 & -14487.98 \\\\\n",
      "Feature-dependent sum of squares & -145456.79 & -15013.00 & -14412.36 \\\\\n",
      "Feature-dependent column norm & -147588.87 & -15054.21 & -14463.16 \\\\\n",
      "Feature-dependent subset features & -146947.37 & -15010.97 & -14413.50 \\\\\n"
     ]
    }
   ],
   "source": [
    "print(\"Empirical & %.2f & %.2f & %.2f \\\\\\\\\" % (train1, val1, test1))\n",
    "print(\"Feature-dependent sum of squares & %.2f & %.2f & %.2f \\\\\\\\\" % (train2, val2, test2))\n",
    "print(\"Feature-dependent column norm & %.2f & %.2f & %.2f \\\\\\\\\" % (train3, val3, test3))\n",
    "print(\"Feature-dependent subset features & %.2f & %.2f & %.2f \\\\\\\\\" % (train4, val4, test4))"
   ]
  },
  {
   "cell_type": "markdown",
   "metadata": {},
   "source": [
    "## Fictitious simulation"
   ]
  },
  {
   "cell_type": "code",
   "execution_count": 33,
   "metadata": {},
   "outputs": [],
   "source": [
    "# https://www.espn.com/mlb/game?gameId=380403126"
   ]
  },
  {
   "cell_type": "code",
   "execution_count": 34,
   "metadata": {},
   "outputs": [],
   "source": [
    "# Seattle Mariners: David Frietas (batter), and Marco Gonzales (pitcher)\n",
    "# SF Giants: Buster Posey (batter), and Tyson Blach (pitcher)"
   ]
  },
  {
   "cell_type": "code",
   "execution_count": 35,
   "metadata": {},
   "outputs": [
    {
     "data": {
      "text/html": [
       "<div>\n",
       "<style scoped>\n",
       "    .dataframe tbody tr th:only-of-type {\n",
       "        vertical-align: middle;\n",
       "    }\n",
       "\n",
       "    .dataframe tbody tr th {\n",
       "        vertical-align: top;\n",
       "    }\n",
       "\n",
       "    .dataframe thead th {\n",
       "        text-align: right;\n",
       "    }\n",
       "</style>\n",
       "<table border=\"1\" class=\"dataframe\">\n",
       "  <thead>\n",
       "    <tr style=\"text-align: right;\">\n",
       "      <th></th>\n",
       "      <th>GAME_ID</th>\n",
       "      <th>AWAY_TEAM_ID</th>\n",
       "      <th>INN_CT</th>\n",
       "      <th>BAT_HOME_ID</th>\n",
       "      <th>OUTS_CT</th>\n",
       "      <th>BALLS_CT</th>\n",
       "      <th>STRIKES_CT</th>\n",
       "      <th>PITCH_SEQ_TX</th>\n",
       "      <th>AWAY_SCORE_CT</th>\n",
       "      <th>HOME_SCORE_CT</th>\n",
       "      <th>...</th>\n",
       "      <th>B_SH</th>\n",
       "      <th>B_SF</th>\n",
       "      <th>B_XI</th>\n",
       "      <th>STATE</th>\n",
       "      <th>BAT_PIT_SAME</th>\n",
       "      <th>SCORE_DIFF</th>\n",
       "      <th>DATE</th>\n",
       "      <th>STADIUM</th>\n",
       "      <th>DOUBLEHEADER</th>\n",
       "      <th>Inning_over</th>\n",
       "    </tr>\n",
       "  </thead>\n",
       "  <tbody>\n",
       "    <tr>\n",
       "      <th>152758</th>\n",
       "      <td>SFN201804030</td>\n",
       "      <td>SEA</td>\n",
       "      <td>1</td>\n",
       "      <td>0</td>\n",
       "      <td>2</td>\n",
       "      <td>0</td>\n",
       "      <td>0</td>\n",
       "      <td>1X</td>\n",
       "      <td>4</td>\n",
       "      <td>0</td>\n",
       "      <td>...</td>\n",
       "      <td>0.014451</td>\n",
       "      <td>0.007225</td>\n",
       "      <td>0.0</td>\n",
       "      <td>17</td>\n",
       "      <td>False</td>\n",
       "      <td>4</td>\n",
       "      <td>2018-04-03</td>\n",
       "      <td>SFN</td>\n",
       "      <td>0</td>\n",
       "      <td>False</td>\n",
       "    </tr>\n",
       "    <tr>\n",
       "      <th>152777</th>\n",
       "      <td>SFN201804030</td>\n",
       "      <td>SEA</td>\n",
       "      <td>4</td>\n",
       "      <td>0</td>\n",
       "      <td>0</td>\n",
       "      <td>0</td>\n",
       "      <td>0</td>\n",
       "      <td>X</td>\n",
       "      <td>4</td>\n",
       "      <td>0</td>\n",
       "      <td>...</td>\n",
       "      <td>0.014451</td>\n",
       "      <td>0.007225</td>\n",
       "      <td>0.0</td>\n",
       "      <td>1</td>\n",
       "      <td>False</td>\n",
       "      <td>4</td>\n",
       "      <td>2018-04-03</td>\n",
       "      <td>SFN</td>\n",
       "      <td>0</td>\n",
       "      <td>False</td>\n",
       "    </tr>\n",
       "    <tr>\n",
       "      <th>152790</th>\n",
       "      <td>SFN201804030</td>\n",
       "      <td>SEA</td>\n",
       "      <td>5</td>\n",
       "      <td>0</td>\n",
       "      <td>2</td>\n",
       "      <td>3</td>\n",
       "      <td>2</td>\n",
       "      <td>*BCBCFB*B</td>\n",
       "      <td>6</td>\n",
       "      <td>1</td>\n",
       "      <td>...</td>\n",
       "      <td>0.000000</td>\n",
       "      <td>0.000000</td>\n",
       "      <td>0.0</td>\n",
       "      <td>19</td>\n",
       "      <td>True</td>\n",
       "      <td>5</td>\n",
       "      <td>2018-04-03</td>\n",
       "      <td>SFN</td>\n",
       "      <td>0</td>\n",
       "      <td>False</td>\n",
       "    </tr>\n",
       "    <tr>\n",
       "      <th>152811</th>\n",
       "      <td>SFN201804030</td>\n",
       "      <td>SEA</td>\n",
       "      <td>8</td>\n",
       "      <td>0</td>\n",
       "      <td>0</td>\n",
       "      <td>0</td>\n",
       "      <td>2</td>\n",
       "      <td>.TFS</td>\n",
       "      <td>6</td>\n",
       "      <td>3</td>\n",
       "      <td>...</td>\n",
       "      <td>0.003846</td>\n",
       "      <td>0.000000</td>\n",
       "      <td>0.0</td>\n",
       "      <td>0</td>\n",
       "      <td>True</td>\n",
       "      <td>3</td>\n",
       "      <td>2018-04-03</td>\n",
       "      <td>SFN</td>\n",
       "      <td>0</td>\n",
       "      <td>True</td>\n",
       "    </tr>\n",
       "  </tbody>\n",
       "</table>\n",
       "<p>4 rows × 136 columns</p>\n",
       "</div>"
      ],
      "text/plain": [
       "             GAME_ID AWAY_TEAM_ID  INN_CT  BAT_HOME_ID  OUTS_CT  BALLS_CT  \\\n",
       "152758  SFN201804030          SEA       1            0        2         0   \n",
       "152777  SFN201804030          SEA       4            0        0         0   \n",
       "152790  SFN201804030          SEA       5            0        2         3   \n",
       "152811  SFN201804030          SEA       8            0        0         0   \n",
       "\n",
       "        STRIKES_CT PITCH_SEQ_TX  AWAY_SCORE_CT  HOME_SCORE_CT  ...      B_SH  \\\n",
       "152758           0           1X              4              0  ...  0.014451   \n",
       "152777           0            X              4              0  ...  0.014451   \n",
       "152790           2    *BCBCFB*B              6              1  ...  0.000000   \n",
       "152811           2         .TFS              6              3  ...  0.003846   \n",
       "\n",
       "            B_SF B_XI STATE BAT_PIT_SAME SCORE_DIFF       DATE STADIUM  \\\n",
       "152758  0.007225  0.0    17        False          4 2018-04-03     SFN   \n",
       "152777  0.007225  0.0     1        False          4 2018-04-03     SFN   \n",
       "152790  0.000000  0.0    19         True          5 2018-04-03     SFN   \n",
       "152811  0.000000  0.0     0         True          3 2018-04-03     SFN   \n",
       "\n",
       "       DOUBLEHEADER Inning_over  \n",
       "152758            0       False  \n",
       "152777            0       False  \n",
       "152790            0       False  \n",
       "152811            0        True  \n",
       "\n",
       "[4 rows x 136 columns]"
      ]
     },
     "execution_count": 35,
     "metadata": {},
     "output_type": "execute_result"
    }
   ],
   "source": [
    "df[(df.GAME_ID == \"SFN201804030\") & (df.BAT_HOME_ID == 0) & (df.BAT_LINEUP_ID == 8)]"
   ]
  },
  {
   "cell_type": "code",
   "execution_count": 56,
   "metadata": {},
   "outputs": [],
   "source": [
    "f_seattle_batting = features_df.loc[152758].astype(float).copy()\n",
    "f_giants_batting = features_df.loc[152766].astype(float).copy()"
   ]
  },
  {
   "cell_type": "code",
   "execution_count": 57,
   "metadata": {},
   "outputs": [],
   "source": [
    "f_seattle_batting_1 = features_df.loc[152831].astype(float).copy()\n",
    "f_giants_batting_1 = features_df.loc[152845].astype(float).copy()"
   ]
  },
  {
   "cell_type": "code",
   "execution_count": 71,
   "metadata": {},
   "outputs": [],
   "source": [
    "def simulate_game(f_seattle_batting, f_giants_batting, verbose=False):\n",
    "    inning = 1\n",
    "    top = True\n",
    "    runs_seattle = 0\n",
    "    runs_giants = 0\n",
    "    while True:\n",
    "        # simulate an inning\n",
    "        if top:\n",
    "            if verbose:\n",
    "                print(\"Seattle batting\")\n",
    "            state = 0\n",
    "            f_seattle_batting[['INN_CT_1', 'INN_CT_2', 'INN_CT_3',\n",
    "                   'INN_CT_4', 'INN_CT_5', 'INN_CT_6', 'INN_CT_7', 'INN_CT_8', 'INN_CT_9',\n",
    "                   'INN_CT_10']] = 0.\n",
    "            f_seattle_batting['INN_CT_%d' % min(inning, 10)] = 1.\n",
    "            if verbose:\n",
    "                print(id_to_state[state])\n",
    "            while state != 24:\n",
    "                f_seattle_batting[['SCORE_DIFF_-2', 'SCORE_DIFF_-1', 'SCORE_DIFF_0',\n",
    "                       'SCORE_DIFF_1', 'SCORE_DIFF_2', 'SCORE_DIFF_3']] = 0.\n",
    "                f_seattle_batting['SCORE_DIFF_%d' % max(min(runs_seattle - runs_giants, 3), -3)] = 1.\n",
    "                P = model2.predict(ss.transform(f_seattle_batting[None,:]))[0]\n",
    "                new_state = np.random.choice(np.arange(25), p=P[state,:])\n",
    "                runs_seattle += int(R[state, new_state])\n",
    "                if verbose:\n",
    "                    print(id_to_state[state], int(R[state, new_state]))\n",
    "                state = new_state\n",
    "            top = False\n",
    "        else:\n",
    "            if verbose:\n",
    "                print(\"Giants batting\")\n",
    "            state = 0\n",
    "            f_giants_batting[['INN_CT_1', 'INN_CT_2', 'INN_CT_3',\n",
    "                   'INN_CT_4', 'INN_CT_5', 'INN_CT_6', 'INN_CT_7', 'INN_CT_8', 'INN_CT_9',\n",
    "                   'INN_CT_10']] = 0.\n",
    "            f_giants_batting['INN_CT_%d' % min(inning, 10)] = 1.\n",
    "            if verbose:\n",
    "                print(id_to_state[state])\n",
    "            while state != 24:\n",
    "                f_giants_batting[['SCORE_DIFF_-2', 'SCORE_DIFF_-1', 'SCORE_DIFF_0',\n",
    "                       'SCORE_DIFF_1', 'SCORE_DIFF_2', 'SCORE_DIFF_3']] = 0.\n",
    "                f_giants_batting['SCORE_DIFF_%d' % max(min(runs_giants - runs_seattle, 3), -3)] = 1.\n",
    "                P = model2.predict(ss.transform(f_giants_batting[None,:]))[0]\n",
    "                new_state = np.random.choice(np.arange(25), p=P[state,:])\n",
    "                runs_giants += int(R[state, new_state])\n",
    "                if verbose:\n",
    "                    print(id_to_state[state], int(R[state, new_state]))\n",
    "                state = new_state\n",
    "            top = True\n",
    "        inning += 1\n",
    "        \n",
    "        # the game is over\n",
    "        if inning >= 10 and runs_seattle != runs_giants:\n",
    "            break\n",
    "        \n",
    "    return runs_seattle, runs_giants"
   ]
  },
  {
   "cell_type": "code",
   "execution_count": 79,
   "metadata": {},
   "outputs": [
    {
     "name": "stderr",
     "output_type": "stream",
     "text": [
      "100%|██████████| 10000/10000 [09:09<00:00, 18.19it/s]\n"
     ]
    },
    {
     "data": {
      "text/plain": [
       "0.5338"
      ]
     },
     "execution_count": 79,
     "metadata": {},
     "output_type": "execute_result"
    }
   ],
   "source": [
    "np.random.seed(0)\n",
    "import tqdm\n",
    "scores = []\n",
    "for _ in tqdm.tqdm(range(10000)):\n",
    "    scores.append(simulate_game(f_seattle_batting, f_giants_batting))\n",
    "x = np.array(scores)\n",
    "(x[:,1] > x[:,0]).mean()"
   ]
  },
  {
   "cell_type": "code",
   "execution_count": 80,
   "metadata": {},
   "outputs": [
    {
     "data": {
      "text/plain": [
       "(0.5338, 0.2202)"
      ]
     },
     "execution_count": 80,
     "metadata": {},
     "output_type": "execute_result"
    }
   ],
   "source": [
    "(x[:,1] > x[:,0]).mean(), (x[:,1] - x[:,0]).mean()"
   ]
  },
  {
   "cell_type": "code",
   "execution_count": 81,
   "metadata": {},
   "outputs": [
    {
     "data": {
      "image/png": "[encoded data removed]",
      "text/plain": [
       "<Figure size 432x288 with 1 Axes>"
      ]
     },
     "metadata": {
      "needs_background": "light"
     },
     "output_type": "display_data"
    }
   ],
   "source": [
    "q = pd.value_counts(x[:,1] - x[:,0])\n",
    "plt.bar(q.index, q)\n",
    "plt.xlabel(\"Giants' lead\")\n",
    "plt.ylabel(\"count\")\n",
    "plt.savefig(\"figs/baseball_lead_giants.pdf\")"
   ]
  },
  {
   "cell_type": "code",
   "execution_count": 82,
   "metadata": {},
   "outputs": [
    {
     "name": "stderr",
     "output_type": "stream",
     "text": [
      "100%|██████████| 10000/10000 [09:00<00:00, 18.49it/s]\n"
     ]
    },
    {
     "data": {
      "text/plain": [
       "(0.3851, -0.9374)"
      ]
     },
     "execution_count": 82,
     "metadata": {},
     "output_type": "execute_result"
    }
   ],
   "source": [
    "np.random.seed(0)\n",
    "import tqdm\n",
    "scores = []\n",
    "for _ in tqdm.tqdm(range(10000)):\n",
    "    scores.append(simulate_game(f_seattle_batting_1, f_giants_batting_1))\n",
    "x = np.array(scores)\n",
    "(x[:,1] > x[:,0]).mean(), (x[:,1] - x[:,0]).mean()"
   ]
  },
  {
   "cell_type": "code",
   "execution_count": 83,
   "metadata": {},
   "outputs": [
    {
     "data": {
      "image/png": "[encoded data removed]",
      "text/plain": [
       "<Figure size 432x288 with 1 Axes>"
      ]
     },
     "metadata": {
      "needs_background": "light"
     },
     "output_type": "display_data"
    }
   ],
   "source": [
    "q = pd.value_counts(x[:,1] - x[:,0])\n",
    "plt.bar(q.index, q)\n",
    "plt.xlabel(\"Giants' lead\")\n",
    "plt.ylabel(\"count\")\n",
    "plt.savefig(\"figs/baseball_lead_mariners.pdf\")"
   ]
  }
 ],
 "metadata": {
  "@webio": {
   "lastCommId": null,
   "lastKernelId": null
  },
  "kernelspec": {
   "display_name": "Python 3",
   "language": "python",
   "name": "python3"
  },
  "language_info": {
   "codemirror_mode": {
    "name": "ipython",
    "version": 3
   },
   "file_extension": ".py",
   "mimetype": "text/x-python",
   "name": "python",
   "nbconvert_exporter": "python",
   "pygments_lexer": "ipython3",
   "version": "3.7.3"
  }
 },
 "nbformat": 4,
 "nbformat_minor": 2
}
