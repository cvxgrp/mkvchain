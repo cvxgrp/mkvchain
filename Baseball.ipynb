{
 "cells": [
  {
   "cell_type": "code",
   "execution_count": 2,
   "metadata": {},
   "outputs": [],
   "source": [
    "%load_ext autoreload\n",
    "%autoreload 2"
   ]
  },
  {
   "cell_type": "code",
   "execution_count": 3,
   "metadata": {},
   "outputs": [],
   "source": [
    "import pandas as pd\n",
    "import numpy as np\n",
    "from model import FeatureDependentMarkovChain\n",
    "import matplotlib.pyplot as plt\n",
    "pd.set_option('display.max_rows', 150)\n",
    "\n",
    "# https://chadwick.readthedocs.io/en/latest/cwevent.html"
   ]
  },
  {
   "cell_type": "code",
   "execution_count": 4,
   "metadata": {},
   "outputs": [],
   "source": [
    "state_to_id = {}\n",
    "id_to_state = {}\n",
    "i = 0\n",
    "for outs in [0, 1, 2]:\n",
    "    for r3 in [0, 1]:\n",
    "        for r2 in [0, 1]:\n",
    "            for r1 in [0, 1]:\n",
    "                state_to_id[(outs, r1, r2, r3)] = i\n",
    "                id_to_state[i] = (outs, r1, r2, r3)\n",
    "                i += 1\n",
    "state_to_id[\"INNING OVER\"] = i\n",
    "id_to_state[i] = \"INNING OVER\"\n",
    "\n",
    "def func(x):\n",
    "    outs = x.OUTS_CT\n",
    "    r1 = 0 if isinstance(x.BASE1_RUN_ID, float) else 1\n",
    "    r2 = 0 if isinstance(x.BASE2_RUN_ID, float) else 1\n",
    "    r3 = 0 if isinstance(x.BASE3_RUN_ID, float) else 1\n",
    "    return state_to_id[(outs, r1, r2, r3)]\n",
    "\n",
    "n = len(state_to_id)"
   ]
  },
  {
   "cell_type": "code",
   "execution_count": 5,
   "metadata": {},
   "outputs": [],
   "source": [
    "headtohead = pd.read_csv(\"data/headtohead-2017.csv\")\n",
    "batters = headtohead.groupby(\"RESP_BAT_ID\").sum()\n",
    "batter_features = batters.iloc[:,2:] / batters.B_PA[:, None]\n",
    "pitchers = headtohead.groupby(\"RESP_PIT_ID\").sum()\n",
    "pitcher_features = pitchers.iloc[:,2:] / pitchers.B_PA[:, None]"
   ]
  },
  {
   "cell_type": "code",
   "execution_count": 6,
   "metadata": {
    "scrolled": true
   },
   "outputs": [
    {
     "name": "stderr",
     "output_type": "stream",
     "text": [
      "/home/shane/miniconda3/lib/python3.7/site-packages/IPython/core/interactiveshell.py:3156: DtypeWarning: Columns (64,65,85) have mixed types.Specify dtype option on import or set low_memory=False.\n",
      "  interactivity=interactivity, compiler=compiler, result=result)\n"
     ]
    },
    {
     "data": {
      "text/html": [
       "<div>\n",
       "<style scoped>\n",
       "    .dataframe tbody tr th:only-of-type {\n",
       "        vertical-align: middle;\n",
       "    }\n",
       "\n",
       "    .dataframe tbody tr th {\n",
       "        vertical-align: top;\n",
       "    }\n",
       "\n",
       "    .dataframe thead th {\n",
       "        text-align: right;\n",
       "    }\n",
       "</style>\n",
       "<table border=\"1\" class=\"dataframe\">\n",
       "  <thead>\n",
       "    <tr style=\"text-align: right;\">\n",
       "      <th></th>\n",
       "      <th>GAME_ID</th>\n",
       "      <th>GAME_NEW_FL</th>\n",
       "      <th>GAME_END_FL</th>\n",
       "      <th>EVENT_ID</th>\n",
       "      <th>INN_CT</th>\n",
       "      <th>BAT_HOME_ID</th>\n",
       "      <th>OUTS_CT</th>\n",
       "      <th>BASE1_RUN_ID</th>\n",
       "      <th>BASE2_RUN_ID</th>\n",
       "      <th>BASE3_RUN_ID</th>\n",
       "      <th>...</th>\n",
       "      <th>B_SH</th>\n",
       "      <th>B_SF</th>\n",
       "      <th>B_XI</th>\n",
       "      <th>STATE</th>\n",
       "      <th>BAT_PIT_SAME</th>\n",
       "      <th>SCORE_DIFF</th>\n",
       "      <th>DATE</th>\n",
       "      <th>STADIUM</th>\n",
       "      <th>DOUBLEHEADER</th>\n",
       "      <th>Inning_over</th>\n",
       "    </tr>\n",
       "  </thead>\n",
       "  <tbody>\n",
       "    <tr>\n",
       "      <th>6267</th>\n",
       "      <td>ARI201803290</td>\n",
       "      <td>T</td>\n",
       "      <td>F</td>\n",
       "      <td>1</td>\n",
       "      <td>1</td>\n",
       "      <td>0</td>\n",
       "      <td>0</td>\n",
       "      <td>NaN</td>\n",
       "      <td>NaN</td>\n",
       "      <td>NaN</td>\n",
       "      <td>...</td>\n",
       "      <td>0.004843</td>\n",
       "      <td>0.006053</td>\n",
       "      <td>0.0</td>\n",
       "      <td>0</td>\n",
       "      <td>True</td>\n",
       "      <td>0</td>\n",
       "      <td>2018-03-29</td>\n",
       "      <td>ARI</td>\n",
       "      <td>0</td>\n",
       "      <td>False</td>\n",
       "    </tr>\n",
       "    <tr>\n",
       "      <th>6268</th>\n",
       "      <td>ARI201803290</td>\n",
       "      <td>F</td>\n",
       "      <td>F</td>\n",
       "      <td>2</td>\n",
       "      <td>1</td>\n",
       "      <td>0</td>\n",
       "      <td>1</td>\n",
       "      <td>NaN</td>\n",
       "      <td>NaN</td>\n",
       "      <td>NaN</td>\n",
       "      <td>...</td>\n",
       "      <td>0.004843</td>\n",
       "      <td>0.006053</td>\n",
       "      <td>0.0</td>\n",
       "      <td>8</td>\n",
       "      <td>False</td>\n",
       "      <td>0</td>\n",
       "      <td>2018-03-29</td>\n",
       "      <td>ARI</td>\n",
       "      <td>0</td>\n",
       "      <td>False</td>\n",
       "    </tr>\n",
       "    <tr>\n",
       "      <th>6269</th>\n",
       "      <td>ARI201803290</td>\n",
       "      <td>F</td>\n",
       "      <td>F</td>\n",
       "      <td>3</td>\n",
       "      <td>1</td>\n",
       "      <td>0</td>\n",
       "      <td>1</td>\n",
       "      <td>NaN</td>\n",
       "      <td>NaN</td>\n",
       "      <td>NaN</td>\n",
       "      <td>...</td>\n",
       "      <td>0.004843</td>\n",
       "      <td>0.006053</td>\n",
       "      <td>0.0</td>\n",
       "      <td>8</td>\n",
       "      <td>False</td>\n",
       "      <td>1</td>\n",
       "      <td>2018-03-29</td>\n",
       "      <td>ARI</td>\n",
       "      <td>0</td>\n",
       "      <td>False</td>\n",
       "    </tr>\n",
       "    <tr>\n",
       "      <th>6270</th>\n",
       "      <td>ARI201803290</td>\n",
       "      <td>F</td>\n",
       "      <td>F</td>\n",
       "      <td>4</td>\n",
       "      <td>1</td>\n",
       "      <td>0</td>\n",
       "      <td>1</td>\n",
       "      <td>arenn001</td>\n",
       "      <td>NaN</td>\n",
       "      <td>NaN</td>\n",
       "      <td>...</td>\n",
       "      <td>0.004843</td>\n",
       "      <td>0.006053</td>\n",
       "      <td>0.0</td>\n",
       "      <td>9</td>\n",
       "      <td>False</td>\n",
       "      <td>1</td>\n",
       "      <td>2018-03-29</td>\n",
       "      <td>ARI</td>\n",
       "      <td>0</td>\n",
       "      <td>False</td>\n",
       "    </tr>\n",
       "    <tr>\n",
       "      <th>6271</th>\n",
       "      <td>ARI201803290</td>\n",
       "      <td>F</td>\n",
       "      <td>F</td>\n",
       "      <td>5</td>\n",
       "      <td>1</td>\n",
       "      <td>0</td>\n",
       "      <td>2</td>\n",
       "      <td>arenn001</td>\n",
       "      <td>NaN</td>\n",
       "      <td>NaN</td>\n",
       "      <td>...</td>\n",
       "      <td>0.004843</td>\n",
       "      <td>0.006053</td>\n",
       "      <td>0.0</td>\n",
       "      <td>17</td>\n",
       "      <td>True</td>\n",
       "      <td>1</td>\n",
       "      <td>2018-03-29</td>\n",
       "      <td>ARI</td>\n",
       "      <td>0</td>\n",
       "      <td>False</td>\n",
       "    </tr>\n",
       "  </tbody>\n",
       "</table>\n",
       "<p>5 rows × 56 columns</p>\n",
       "</div>"
      ],
      "text/plain": [
       "           GAME_ID GAME_NEW_FL GAME_END_FL  EVENT_ID  INN_CT  BAT_HOME_ID  \\\n",
       "6267  ARI201803290           T           F         1       1            0   \n",
       "6268  ARI201803290           F           F         2       1            0   \n",
       "6269  ARI201803290           F           F         3       1            0   \n",
       "6270  ARI201803290           F           F         4       1            0   \n",
       "6271  ARI201803290           F           F         5       1            0   \n",
       "\n",
       "      OUTS_CT BASE1_RUN_ID BASE2_RUN_ID BASE3_RUN_ID  ...      B_SH      B_SF  \\\n",
       "6267        0          NaN          NaN          NaN  ...  0.004843  0.006053   \n",
       "6268        1          NaN          NaN          NaN  ...  0.004843  0.006053   \n",
       "6269        1          NaN          NaN          NaN  ...  0.004843  0.006053   \n",
       "6270        1     arenn001          NaN          NaN  ...  0.004843  0.006053   \n",
       "6271        2     arenn001          NaN          NaN  ...  0.004843  0.006053   \n",
       "\n",
       "     B_XI STATE BAT_PIT_SAME SCORE_DIFF       DATE  STADIUM  DOUBLEHEADER  \\\n",
       "6267  0.0     0         True          0 2018-03-29      ARI             0   \n",
       "6268  0.0     8        False          0 2018-03-29      ARI             0   \n",
       "6269  0.0     8        False          1 2018-03-29      ARI             0   \n",
       "6270  0.0     9        False          1 2018-03-29      ARI             0   \n",
       "6271  0.0    17         True          1 2018-03-29      ARI             0   \n",
       "\n",
       "      Inning_over  \n",
       "6267        False  \n",
       "6268        False  \n",
       "6269        False  \n",
       "6270        False  \n",
       "6271        False  \n",
       "\n",
       "[5 rows x 56 columns]"
      ]
     },
     "execution_count": 6,
     "metadata": {},
     "output_type": "execute_result"
    }
   ],
   "source": [
    "df = pd.read_csv(\"data/all2018.csv\")\n",
    "df = df[[\"GAME_ID\", \"GAME_NEW_FL\", \"GAME_END_FL\", \"EVENT_ID\", \"INN_CT\", \"BAT_HOME_ID\", \"OUTS_CT\", \"BASE1_RUN_ID\", \"BASE2_RUN_ID\", \"BASE3_RUN_ID\", \"AWAY_SCORE_CT\", \"HOME_SCORE_CT\",\n",
    "   \"BAT_ID\", \"BAT_HAND_CD\", \"PIT_ID\", \"PIT_HAND_CD\", \"BAT_LINEUP_ID\"]]\n",
    "df = df.join(batter_features, on='BAT_ID').join(pitcher_features, on='PIT_ID', lsuffix='_PIT')\n",
    "df[\"STATE\"] = df.apply(func, axis=1)\n",
    "df[\"BAT_PIT_SAME\"] = df.BAT_HAND_CD == df.PIT_HAND_CD\n",
    "df[\"SCORE_DIFF\"] = (df[\"BAT_HOME_ID\"] * 2 - 1) * (df.HOME_SCORE_CT - df.AWAY_SCORE_CT)\n",
    "df[\"DATE\"] = pd.to_datetime(df.GAME_ID.str[3:-1], format=\"%Y%m%d\")\n",
    "df[\"STADIUM\"] = df.GAME_ID.str[:3]\n",
    "df[\"DOUBLEHEADER\"] = df.GAME_ID.str[-1]\n",
    "df.sort_values(by=[\"DATE\", \"STADIUM\", \"DOUBLEHEADER\", \"EVENT_ID\"], inplace=True)\n",
    "df[\"Inning_over\"] = (df[[\"INN_CT\", \"BAT_HOME_ID\"]].shift(1) != df[[\"INN_CT\", \"BAT_HOME_ID\"]]).any(axis=1)\n",
    "df.iloc[0, -1] = False\n",
    "df.head(5)"
   ]
  },
  {
   "cell_type": "code",
   "execution_count": 7,
   "metadata": {},
   "outputs": [
    {
     "name": "stderr",
     "output_type": "stream",
     "text": [
      "/home/shane/miniconda3/lib/python3.7/site-packages/ipykernel_launcher.py:8: SettingWithCopyWarning: \n",
      "A value is trying to be set on a copy of a slice from a DataFrame\n",
      "\n",
      "See the caveats in the documentation: https://pandas.pydata.org/pandas-docs/stable/user_guide/indexing.html#returning-a-view-versus-a-copy\n",
      "  \n",
      "/home/shane/miniconda3/lib/python3.7/site-packages/ipykernel_launcher.py:9: SettingWithCopyWarning: \n",
      "A value is trying to be set on a copy of a slice from a DataFrame\n",
      "\n",
      "See the caveats in the documentation: https://pandas.pydata.org/pandas-docs/stable/user_guide/indexing.html#returning-a-view-versus-a-copy\n",
      "  if __name__ == '__main__':\n",
      "/home/shane/miniconda3/lib/python3.7/site-packages/ipykernel_launcher.py:10: SettingWithCopyWarning: \n",
      "A value is trying to be set on a copy of a slice from a DataFrame\n",
      "\n",
      "See the caveats in the documentation: https://pandas.pydata.org/pandas-docs/stable/user_guide/indexing.html#returning-a-view-versus-a-copy\n",
      "  # Remove the CWD from sys.path while we load stuff.\n"
     ]
    }
   ],
   "source": [
    "features_df = df[['SCORE_DIFF', 'BAT_LINEUP_ID', 'BAT_HOME_ID', 'INN_CT', 'B_AB_PIT',\n",
    "       'B_H_PIT', 'B_TB_PIT', 'B_2B_PIT', 'B_3B_PIT', 'B_HR_PIT', 'B_HR4_PIT',\n",
    "       'B_RBI_PIT', 'B_BB_PIT', 'B_IBB_PIT', 'B_SO_PIT', 'B_GDP_PIT',\n",
    "       'B_HP_PIT', 'B_SH_PIT', 'B_SF_PIT', 'B_XI_PIT', 'B_AB', 'B_H', 'B_TB',\n",
    "       'B_2B', 'B_3B', 'B_HR', 'B_HR4', 'B_RBI', 'B_BB', 'B_IBB', 'B_SO',\n",
    "       'B_GDP', 'B_HP', 'B_SH', 'B_SF', 'B_XI', 'BAT_HAND_CD', 'PIT_HAND_CD',\n",
    "       'BAT_PIT_SAME']].copy()\n",
    "features_df.INN_CT[features_df.INN_CT >= 10] = 10\n",
    "features_df.SCORE_DIFF[features_df.SCORE_DIFF >= 3] = 3\n",
    "features_df.SCORE_DIFF[features_df.SCORE_DIFF <= -3] = -3\n",
    "dummy_cols = [\"BAT_HAND_CD\", \"PIT_HAND_CD\", \"INN_CT\", \"BAT_LINEUP_ID\", \"SCORE_DIFF\"]\n",
    "for c in dummy_cols:\n",
    "    features_df = pd.concat([features_df, pd.get_dummies(features_df[c], prefix=c)], axis=1)\n",
    "features_df.drop(dummy_cols, axis=1, inplace=True)\n",
    "features = features_df.values.astype(float)"
   ]
  },
  {
   "cell_type": "code",
   "execution_count": 8,
   "metadata": {},
   "outputs": [],
   "source": [
    "# features_df = df[['BAT_LINEUP_ID']].copy()\n",
    "# # features_df.INN_CT[features_df.INN_CT >= 10] = 10\n",
    "# # features_df.SCORE_DIFF[features_df.SCORE_DIFF >= 3] = 3\n",
    "# # features_df.SCORE_DIFF[features_df.SCORE_DIFF <= -3] = -3\n",
    "# dummy_cols = [\"BAT_LINEUP_ID\"]\n",
    "# for c in dummy_cols:\n",
    "#     features_df = pd.concat([features_df, pd.get_dummies(features_df[c], prefix=c)], axis=1)\n",
    "# features_df.drop(dummy_cols, axis=1, inplace=True)\n",
    "# features = features_df.values"
   ]
  },
  {
   "cell_type": "code",
   "execution_count": 9,
   "metadata": {},
   "outputs": [
    {
     "data": {
      "text/plain": [
       "294.0"
      ]
     },
     "execution_count": 9,
     "metadata": {},
     "output_type": "execute_result"
    }
   ],
   "source": [
    "M = np.zeros((n, n))\n",
    "R = np.zeros((n, n))\n",
    "for i in range(n):\n",
    "    for j in range(n):\n",
    "        if i == n-1:\n",
    "            M[i, j] = 0 if j != n-1 else 1\n",
    "        else:\n",
    "            o_start, r1_start, r2_start, r3_start = id_to_state[i]\n",
    "            if j == n-1:\n",
    "                M[i, j] = 1 if o_start + r1_start + r2_start + r3_start + 1 >= 3 else 0\n",
    "            else:\n",
    "                o_end, r1_end, r2_end, r3_end = id_to_state[j]\n",
    "                o = o_end - o_start\n",
    "                r_start = r1_start + r2_start + r3_start\n",
    "                r_end = r1_end + r2_end + r3_end\n",
    "                runs = r_start - r_end + 1 - o\n",
    "                runner_backwards = r3_start == 1 and r2_start == 0 and r1_start == 0 and r1_end == 1 and r2_end == 1\n",
    "                M[i, j] = 1 if runs >= 0 and runs + o <= r_start + 1 and o >= 0 and not runner_backwards else 0\n",
    "                R[i, j] = 0 if M[i, j] == 0 else runs\n",
    "M.sum()"
   ]
  },
  {
   "cell_type": "code",
   "execution_count": 10,
   "metadata": {},
   "outputs": [],
   "source": [
    "states = df[\"STATE\"].values.copy()\n",
    "lengths = np.diff(np.append(np.append(0, np.where(df[\"Inning_over\"])[0]), df.shape[0])).copy()\n",
    "i = 0\n",
    "states_new = []\n",
    "features_new = []\n",
    "lengths_new = []\n",
    "for l in lengths:\n",
    "    if M[states[i:i+l][-1], 24] == 0: # game over early\n",
    "        states_new += [states[i:i+l]]\n",
    "        features_new += [features[i:i+l]]\n",
    "        lengths_new += [l]\n",
    "    else:\n",
    "        states_new += [np.append(states[i:i+l], state_to_id[\"INNING OVER\"])]\n",
    "        features_new += [np.vstack([features[i:i+l], np.zeros((1, features.shape[1]))])]\n",
    "        lengths_new += [l + 1]\n",
    "    i += l\n",
    "states = np.concatenate(states_new)\n",
    "features = np.vstack(features_new)\n",
    "lengths = np.array(lengths_new)"
   ]
  },
  {
   "cell_type": "code",
   "execution_count": 11,
   "metadata": {},
   "outputs": [],
   "source": [
    "train_idx = int(lengths.size * .8)\n",
    "val_idx = int(lengths.size * .9)\n",
    "\n",
    "lengths_train = lengths[:train_idx]\n",
    "lengths_val = lengths[train_idx:val_idx]\n",
    "lengths_test = lengths[val_idx:]\n",
    "\n",
    "states_train = states[:lengths_train.sum()]\n",
    "states_val = states[lengths_train.sum():lengths_train.sum()+lengths_val.sum()]\n",
    "states_test = states[lengths_train.sum()+lengths_val.sum():]\n",
    "\n",
    "features_train = features[:lengths_train.sum()]\n",
    "features_val = features[lengths_train.sum():lengths_train.sum()+lengths_val.sum()]\n",
    "features_test = features[lengths_train.sum()+lengths_val.sum():]\n",
    "\n",
    "# lengths_train = lengths_train[:5000]\n",
    "# states_train = states_train[:sum(lengths_train)]\n",
    "# features_train = features_train[:sum(lengths_train)]\n",
    "\n",
    "# append some inning over sequences\n",
    "states_train = np.append(states_train, [state_to_id[\"INNING OVER\"]]*20)\n",
    "lengths_train = np.append(lengths_train, 20)\n",
    "features_train = np.vstack([features_train, np.zeros((20, features.shape[1]))])"
   ]
  },
  {
   "cell_type": "code",
   "execution_count": 12,
   "metadata": {},
   "outputs": [
    {
     "data": {
      "text/plain": [
       "((187612, 64), (23482, 64), (23545, 64))"
      ]
     },
     "execution_count": 12,
     "metadata": {},
     "output_type": "execute_result"
    }
   ],
   "source": [
    "features_train.shape, features_val.shape, features_test.shape"
   ]
  },
  {
   "cell_type": "code",
   "execution_count": 13,
   "metadata": {},
   "outputs": [],
   "source": [
    "from sklearn.preprocessing import QuantileTransformer, StandardScaler\n",
    "ss = StandardScaler()\n",
    "\n",
    "features_train = ss.fit_transform(features_train)\n",
    "features_val = ss.transform(features_val)\n",
    "features_test = ss.transform(features_test)"
   ]
  },
  {
   "cell_type": "code",
   "execution_count": 14,
   "metadata": {},
   "outputs": [
    {
     "name": "stderr",
     "output_type": "stream",
     "text": [
      "/home/shane/miniconda3/lib/python3.7/site-packages/ipykernel_launcher.py:10: RuntimeWarning: invalid value encountered in true_divide\n",
      "  # Remove the CWD from sys.path while we load stuff.\n"
     ]
    },
    {
     "data": {
      "image/png": "[encoded data removed]",
      "text/plain": [
       "<Figure size 432x288 with 2 Axes>"
      ]
     },
     "metadata": {
      "needs_background": "light"
     },
     "output_type": "display_data"
    }
   ],
   "source": [
    "i = 0\n",
    "P = np.zeros((25, 25))\n",
    "for l in lengths:\n",
    "    for j in range(i, i+l-1):\n",
    "        if M[states[j], states[j+1]] == 0:\n",
    "            print(\"ERROR\")\n",
    "            print (j, j+1)\n",
    "        P[states[j], states[j+1]] += 1\n",
    "    i += l\n",
    "P = P / P.sum(axis=1)[:, None]\n",
    "P[-1,:] = 0.\n",
    "P[-1,-1] = 1.\n",
    "plt.imshow(P, vmin=0, vmax=1)\n",
    "plt.colorbar()\n",
    "plt.savefig(\"figs/baseball_empirical.pdf\")"
   ]
  },
  {
   "cell_type": "code",
   "execution_count": 191,
   "metadata": {},
   "outputs": [
    {
     "data": {
      "text/plain": [
       "(279, 294.0)"
      ]
     },
     "execution_count": 191,
     "metadata": {},
     "output_type": "execute_result"
    }
   ],
   "source": [
    "(P > 0).sum(), M.sum()"
   ]
  },
  {
   "cell_type": "code",
   "execution_count": 192,
   "metadata": {},
   "outputs": [
    {
     "data": {
      "text/plain": [
       "0.4464"
      ]
     },
     "execution_count": 192,
     "metadata": {},
     "output_type": "execute_result"
    }
   ],
   "source": [
    "(P > 0).sum() / np.prod(P.shape)"
   ]
  },
  {
   "cell_type": "code",
   "execution_count": 193,
   "metadata": {},
   "outputs": [
    {
     "data": {
      "text/plain": [
       "False"
      ]
     },
     "execution_count": 193,
     "metadata": {},
     "output_type": "execute_result"
    }
   ],
   "source": [
    "((P > 0) & ~(M > 0)).any()"
   ]
  },
  {
   "cell_type": "code",
   "execution_count": 194,
   "metadata": {},
   "outputs": [],
   "source": [
    "M = P > 0"
   ]
  },
  {
   "cell_type": "code",
   "execution_count": 195,
   "metadata": {},
   "outputs": [],
   "source": [
    "runs_list = []\n",
    "atbats = []\n",
    "for _ in range(1_000):\n",
    "    state = 0\n",
    "    runs = 0\n",
    "    i = 1\n",
    "    while True:\n",
    "        outs, r1, r2, r3 = id_to_state[state]\n",
    "        next_state = np.random.choice(np.arange(25), p=P[state])\n",
    "        if id_to_state[next_state] == \"INNING OVER\":\n",
    "            break\n",
    "        runs += R[state, next_state]\n",
    "        state = next_state\n",
    "        i += 1\n",
    "    atbats.append(i)\n",
    "    runs_list.append(runs)"
   ]
  },
  {
   "cell_type": "code",
   "execution_count": 196,
   "metadata": {},
   "outputs": [
    {
     "data": {
      "text/plain": [
       "39.519"
      ]
     },
     "execution_count": 196,
     "metadata": {},
     "output_type": "execute_result"
    }
   ],
   "source": [
    "np.mean(atbats) * 9"
   ]
  },
  {
   "cell_type": "code",
   "execution_count": 197,
   "metadata": {},
   "outputs": [
    {
     "name": "stdout",
     "output_type": "stream",
     "text": [
      "0.617\n"
     ]
    },
    {
     "data": {
      "image/png": "[encoded data removed]",
      "text/plain": [
       "<Figure size 432x288 with 1 Axes>"
      ]
     },
     "metadata": {
      "needs_background": "light"
     },
     "output_type": "display_data"
    }
   ],
   "source": [
    "plt.hist(runs_list, bins=100);\n",
    "print(np.mean(runs_list))"
   ]
  },
  {
   "cell_type": "code",
   "execution_count": 18,
   "metadata": {
    "scrolled": true
   },
   "outputs": [
    {
     "name": "stdout",
     "output_type": "stream",
     "text": [
      "The second most probable transitions\n",
      "(0, 0, 0, 0) (0, 1, 0, 0) 0.231\n",
      "(0, 1, 0, 0) (0, 1, 1, 0) 0.191\n",
      "(0, 0, 1, 0) (1, 0, 0, 1) 0.226\n",
      "(0, 1, 1, 0) (0, 1, 1, 1) 0.16\n",
      "(0, 0, 0, 1) (1, 0, 0, 0) 0.207\n",
      "(0, 1, 0, 1) (1, 1, 0, 0) 0.17\n",
      "(0, 0, 1, 1) (1, 0, 0, 1) 0.148\n",
      "(0, 1, 1, 1) (0, 1, 1, 1) 0.174\n",
      "(1, 0, 0, 0) (1, 1, 0, 0) 0.231\n",
      "(1, 1, 0, 0) (1, 1, 1, 0) 0.18\n",
      "(1, 0, 1, 0) (2, 0, 0, 1) 0.163\n",
      "(1, 1, 1, 0) (1, 1, 1, 1) 0.154\n",
      "(1, 0, 0, 1) (2, 0, 0, 0) 0.199\n",
      "(1, 1, 0, 1) (2, 1, 0, 0) 0.149\n",
      "(1, 0, 1, 1) (1, 1, 1, 1) 0.191\n",
      "(1, 1, 1, 1) (1, 1, 1, 1) 0.146\n",
      "(2, 0, 0, 0) (2, 1, 0, 0) 0.237\n",
      "(2, 1, 0, 0) (2, 1, 1, 0) 0.162\n",
      "(2, 0, 1, 0) (2, 1, 1, 0) 0.156\n",
      "(2, 1, 1, 0) (2, 1, 1, 1) 0.128\n",
      "(2, 0, 0, 1) (2, 1, 0, 1) 0.155\n",
      "(2, 1, 0, 1) (2, 0, 1, 1) 0.128\n",
      "(2, 0, 1, 1) (2, 1, 1, 1) 0.183\n",
      "(2, 1, 1, 1) (2, 1, 1, 1) 0.116\n",
      "INNING OVER (1, 1, 1, 0) 0.0\n"
     ]
    }
   ],
   "source": [
    "print(\"The second most probable transitions\")\n",
    "for i in range(25):\n",
    "    print(id_to_state[i], id_to_state[np.argsort(P[i])[-2]], round(np.sort(P[i])[-2], 3))"
   ]
  },
  {
   "cell_type": "code",
   "execution_count": 23,
   "metadata": {},
   "outputs": [
    {
     "data": {
      "text/plain": [
       "(-1.1976343561279272, -1.1866588084490413, -1.2006951804959654)"
      ]
     },
     "execution_count": 23,
     "metadata": {},
     "output_type": "execute_result"
    }
   ],
   "source": [
    "model1 = FeatureDependentMarkovChain(n, lam_frob=0, mask=M, n_iter=1)\n",
    "model1.fit(states_train, features_train*0, lengths_train, verbose=False)\n",
    "model1.score(states_train, features_train*0, lengths_train, average=True), \\\n",
    "    model1.score(states_val, features_val*0, lengths_val, average=True), \\\n",
    "    model1.score(states_test, features_test*0, lengths_test, average=True)"
   ]
  },
  {
   "cell_type": "code",
   "execution_count": 24,
   "metadata": {},
   "outputs": [
    {
     "name": "stdout",
     "output_type": "stream",
     "text": [
      "0.001 -1.1642633177289516 -1.1849057113474015 -1.1977115343894957\n",
      "0.0016681005372000592 -1.1691931907624014 -1.1832865288434766 -1.1958556903042716\n",
      "0.0027825594022071257 -1.17392743235028 -1.1823860399168205 -1.1947891081178117\n",
      "0.004641588833612777 -1.1783221556813217 -1.1820831515105539 -1.1944287539755964\n",
      "0.007742636826811269 -1.1822801240372212 -1.1822318845904587 -1.1946518937293842\n",
      "0.01291549665014884 -1.1857530990685161 -1.1826893242482865 -1.1953104476434067\n",
      "0.021544346900318832 -1.188712127011159 -1.1833190936467837 -1.1962245083523315\n",
      "0.03593813663804626 -1.1911353281360142 -1.1839963918792016 -1.197202430569706\n",
      "0.05994842503189409 -1.1930332107832735 -1.1846309228494094 -1.1980936729205027\n",
      "0.1 -1.1944636708252965 -1.1851748402378577 -1.198830769671155\n"
     ]
    }
   ],
   "source": [
    "from copy import deepcopy\n",
    "for lam in np.logspace(-3,-1,10):\n",
    "    model = FeatureDependentMarkovChain(n, lam_frob=lam, mask=M, n_iter=1)\n",
    "    model.As = deepcopy(model1.As)\n",
    "    model.bs = deepcopy(model1.bs)\n",
    "    model.fit(states_train, features_train, lengths_train, verbose=False, warm_start=True)\n",
    "    print(lam, model.score(states_train, features_train, lengths_train, average=True),\n",
    "          model.score(states_val, features_val, lengths_val, average=True),\n",
    "          model.score(states_test, features_test, lengths_test, average=True))"
   ]
  },
  {
   "cell_type": "code",
   "execution_count": 21,
   "metadata": {},
   "outputs": [],
   "source": [
    "model = FeatureDependentMarkovChain(n, lam_frob=0.0046, mask=M, n_iter=1)\n",
    "model.As = deepcopy(model1.As)\n",
    "model.bs = deepcopy(model1.bs)\n",
    "model.fit(states_train, features_train, lengths_train, verbose=False, warm_start=True)"
   ]
  },
  {
   "cell_type": "code",
   "execution_count": 22,
   "metadata": {},
   "outputs": [
    {
     "name": "stdout",
     "output_type": "stream",
     "text": [
      "\n",
      "\n",
      " 0\n",
      "(1, 0, 1, 0) 0.06715597370542326\n",
      "(0, 0, 1, 0) 0.07322190124142175\n",
      "(2, 0, 0, 0) 0.09159807891538232\n",
      "(0, 1, 1, 0) 0.20085851123640164\n",
      "(1, 1, 0, 0) 0.439837810947215\n",
      "\n",
      "\n",
      " 100\n",
      "(1, 0, 1, 0) 0.0650768751065079\n",
      "(0, 0, 1, 0) 0.06856649229141928\n",
      "(2, 0, 0, 0) 0.08826108448274898\n",
      "(0, 1, 1, 0) 0.1908800054676689\n",
      "(1, 1, 0, 0) 0.4535987446284997\n",
      "\n",
      "\n",
      " 200\n",
      "(1, 0, 1, 0) 0.06749245034255441\n",
      "(2, 0, 0, 0) 0.07460169375709395\n",
      "(0, 0, 1, 0) 0.07974162449028278\n",
      "(0, 1, 1, 0) 0.19079782789951802\n",
      "(1, 1, 0, 0) 0.455662545049188\n",
      "\n",
      "\n",
      " 300\n",
      "(0, 0, 1, 0) 0.06135010407042618\n",
      "(2, 0, 0, 0) 0.09283241776409795\n",
      "(1, 0, 1, 0) 0.14992943243822315\n",
      "(0, 1, 1, 0) 0.21263713415047475\n",
      "(1, 1, 0, 0) 0.37496019945770775\n"
     ]
    }
   ],
   "source": [
    "for j in [0, 100, 200, 300]:\n",
    "    print(\"\\n\\n\", j)\n",
    "    P = model.predict(features_train[j:j+1])[0]\n",
    "    p = P[state_to_id[(0,1,0,0)]]\n",
    "    for i in np.argsort(p)[-5:]:\n",
    "        print(id_to_state[i], p[i])"
   ]
  },
  {
   "cell_type": "code",
   "execution_count": 203,
   "metadata": {},
   "outputs": [
    {
     "name": "stdout",
     "output_type": "stream",
     "text": [
      "most positive effect Index(['B_SH', 'PIT_HAND_CD_R', 'BAT_LINEUP_ID_8', 'BAT_LINEUP_ID_5',\n",
      "       'B_3B_PIT'],\n",
      "      dtype='object')\n",
      "most negative effect Index(['B_HR_PIT', 'B_GDP_PIT', 'B_XI', 'PIT_HAND_CD_L', 'BAT_LINEUP_ID_4'], dtype='object')\n"
     ]
    }
   ],
   "source": [
    "starting_state = state_to_id[(0,0,0,0)]\n",
    "ending_state = state_to_id[(0,0,0,1)]\n",
    "j = np.where(model.nonzero[starting_state] == ending_state)[0][0]\n",
    "A, b = model.As[starting_state], model.bs[starting_state]\n",
    "print(\"most positive effect\", features_df.columns[np.argsort(A[:,j])[-5:]])\n",
    "print(\"most negative effect\", features_df.columns[np.argsort(A[:,j])[:5]])"
   ]
  },
  {
   "cell_type": "markdown",
   "metadata": {},
   "source": [
    "## With column norm regularization"
   ]
  },
  {
   "cell_type": "code",
   "execution_count": 76,
   "metadata": {},
   "outputs": [
    {
     "name": "stdout",
     "output_type": "stream",
     "text": [
      "0 1.0 1.1976343561279268\n",
      "1 1.2 1.19753054629369\n",
      "2 1.44 1.197428331379743\n",
      "3 1.728 1.1973295307539944\n",
      "4 2.0736 1.1972356013848975\n",
      "5 2.48832 1.1971475705462866\n",
      "6 2.9859839999999997 1.1970660389923975\n",
      "7 3.5831807999999996 1.1969913145965685\n",
      "8 4.299816959999999 1.1969235884852918\n",
      "9 5.159780351999999 1.196863132514955\n",
      "10 6.191736422399999 1.1968102832382252\n",
      "11 7.430083706879999 1.1967656944571194\n",
      "12 8.916100448255998 1.196729851657655\n",
      "13 10.699320537907196 1.1967023808585735\n",
      "14 12.839184645488634 1.1966826879692143\n",
      "15 15.407021574586361 1.1966696756477118\n",
      "16 18.48842588950363 1.1966619167887433\n",
      "17 22.186111067404358 1.1966577230138689\n",
      "18 26.62333328088523 1.1966556816905265\n",
      "19 31.947999937062274 1.1966547703736836\n",
      "20 38.33759992447473 1.1966543592744605\n",
      "21 46.005119909369675 1.1966543213261256\n",
      "22 13.801535972810901 1.1966542466692336\n",
      "23 8.28092158368654 1.196654089762686\n",
      "24 9.937105900423848 1.1966540580963363\n",
      "25 11.924527080508618 1.1966540336666902\n",
      "26 14.309432496610341 1.196654009342402\n",
      "27 17.17131899593241 1.1966539851164377\n",
      "28 20.60558279511889 1.1966539640917802\n",
      "29 12.363349677071335 1.196653947645463\n",
      "30 14.836019612485602 1.196653933644391\n",
      "31 17.80322353498272 1.1966539224429866\n",
      "32 10.681934120989633 1.1966539085736008\n",
      "33 12.818320945187558 1.1966538986810014\n",
      "34 15.381985134225069 1.1966538893528276\n",
      "35 18.45838216107008 1.1966538813233287\n",
      "36 11.075029296642048 1.1966538728836222\n",
      "37 13.290035155970457 1.196653866240058\n",
      "38 15.948042187164548 1.1966538599084524\n",
      "39 19.137650624597455 1.1966538548460637\n",
      "-1.1942388220499771 -1.1846122904748506 -1.1977186286687849\n"
     ]
    },
    {
     "data": {
      "text/plain": [
       "Index(['B_HR_PIT', 'B_BB_PIT', 'B_SO_PIT', 'B_SH_PIT', 'B_3B', 'B_SO', 'B_GDP',\n",
       "       'BAT_PIT_SAME', 'INN_CT_5', 'INN_CT_9', 'INN_CT_10', 'BAT_LINEUP_ID_1',\n",
       "       'BAT_LINEUP_ID_3', 'BAT_LINEUP_ID_8', 'BAT_LINEUP_ID_9',\n",
       "       'SCORE_DIFF_-3'],\n",
       "      dtype='object')"
      ]
     },
     "execution_count": 76,
     "metadata": {},
     "output_type": "execute_result"
    }
   ],
   "source": [
    "model = FeatureDependentMarkovChain(n, lam_frob=0.0046, mask=M, n_iter=1, lam_col_norm=0.0035)\n",
    "model.As = deepcopy(model1.As)\n",
    "model.bs = deepcopy(model1.bs)\n",
    "model.fit(states_train, features_train, lengths_train, verbose=False, warm_start=True)\n",
    "print(model.score(states_train, features_train, lengths_train, average=True), \\\n",
    "    model.score(states_val, features_val, lengths_val, average=True), \\\n",
    "    model.score(states_test, features_test, lengths_test, average=True))\n",
    "nnz = []\n",
    "for i in range(model.As[0].shape[0]):\n",
    "    col_norm = np.linalg.norm(np.concatenate([A[i,:] for A in model.As]))\n",
    "    if col_norm > 0:\n",
    "        nnz.append(i)\n",
    "features_df.columns[nnz]"
   ]
  },
  {
   "cell_type": "code",
   "execution_count": null,
   "metadata": {},
   "outputs": [],
   "source": []
  }
 ],
 "metadata": {
  "@webio": {
   "lastCommId": null,
   "lastKernelId": null
  },
  "kernelspec": {
   "display_name": "Python 3",
   "language": "python",
   "name": "python3"
  },
  "language_info": {
   "codemirror_mode": {
    "name": "ipython",
    "version": 3
   },
   "file_extension": ".py",
   "mimetype": "text/x-python",
   "name": "python",
   "nbconvert_exporter": "python",
   "pygments_lexer": "ipython3",
   "version": "3.7.3"
  }
 },
 "nbformat": 4,
 "nbformat_minor": 2
}
